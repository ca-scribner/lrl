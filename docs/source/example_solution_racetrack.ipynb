{
 "cells": [
  {
   "cell_type": "markdown",
   "metadata": {},
   "source": [
    "# Example Case using Racetrack\n",
    "\n",
    "Below is an example of how to initialize the Racetrack environment and solve/compare with multiple solvers."
   ]
  },
  {
   "cell_type": "markdown",
   "metadata": {},
   "source": [
    "## Boilerplate\n"
   ]
  },
  {
   "cell_type": "markdown",
   "metadata": {},
   "source": [
    "If you're playing with things under the hood as you run these, autoreload is always useful..."
   ]
  },
  {
   "cell_type": "code",
   "execution_count": 1,
   "metadata": {},
   "outputs": [],
   "source": [
    "%load_ext autoreload\n",
    "\n",
    "%autoreload 2"
   ]
  },
  {
   "cell_type": "markdown",
   "metadata": {},
   "source": [
    "If necessary, add directory containing lrl to path (workaround for if lrl is not installed as a package)"
   ]
  },
  {
   "cell_type": "code",
   "execution_count": 2,
   "metadata": {},
   "outputs": [],
   "source": [
    "import sys\n",
    "\n",
    "# Path to directory containing lrl\n",
    "sys.path.append('../') "
   ]
  },
  {
   "cell_type": "code",
   "execution_count": 3,
   "metadata": {},
   "outputs": [],
   "source": [
    "from lrl import environments, solvers\n",
    "from lrl.utils import plotting\n",
    "\n",
    "import matplotlib.pyplot as plt"
   ]
  },
  {
   "cell_type": "markdown",
   "metadata": {},
   "source": [
    "Logging is used throughout lrl for basic info and debugging. "
   ]
  },
  {
   "cell_type": "code",
   "execution_count": 4,
   "metadata": {},
   "outputs": [],
   "source": [
    "import logging\n",
    "logging.basicConfig(format='%(asctime)s - %(name)s - %(funcName)s - %(levelname)s - %(message)s',\n",
    "                    level=logging.INFO, datefmt='%H:%M:%S')\n",
    "logger = logging.getLogger(__name__)"
   ]
  },
  {
   "cell_type": "markdown",
   "metadata": {},
   "source": [
    "## Initialize an Environment"
   ]
  },
  {
   "cell_type": "markdown",
   "metadata": {},
   "source": [
    "Initialize the 20x10 racetrack that includes some oily (stochastic) surfaces.\n",
    "\n",
    "**Note**: Make sure that your velocity limits suit your track.  A track must have a grass padding around the entire course that prevents a car from trying to exit the track entirely, so if max(abs(vel))==3, you need 3 grass tiles around the outside perimeter of your map.  For track, we have a 2-tile perimeter so velocity must be less than +-2."
   ]
  },
  {
   "cell_type": "code",
   "execution_count": 5,
   "metadata": {},
   "outputs": [
    {
     "name": "stdout",
     "output_type": "stream",
     "text": [
      "Caught the following error while building a track that shouldn't work:\n",
      "Caught IndexError while building Racetrack.  Likely cause is a max velocity that is creater than the wall padding around the track (leading to a car that can exit the track entirely)\n",
      "\n",
      "But second track built perfectly!\n"
     ]
    }
   ],
   "source": [
    "# This will raise an error due to x_vel max limit\n",
    "try:\n",
    "    rt = environments.get_racetrack(track='20x10_U',\n",
    "                                     x_vel_limits=(-2, 20),  # Note high x_vel upper limit\n",
    "                                     y_vel_limits=(-2, 2),\n",
    "                                     x_accel_limits=(-2, 2),\n",
    "                                     y_accel_limits=(-2, 2),\n",
    "                                     max_total_accel=2,\n",
    "                                     )\n",
    "except IndexError as e:\n",
    "    print(\"Caught the following error while building a track that shouldn't work:\")\n",
    "    print(e)\n",
    "    print(\"\")\n",
    "\n",
    "# This will work\n",
    "try:\n",
    "    rt = environments.get_racetrack(track='20x10_U',\n",
    "                                 x_vel_limits=(-2, 2),\n",
    "                                 y_vel_limits=(-2, 2),\n",
    "                                 x_accel_limits=(-2, 2),\n",
    "                                 y_accel_limits=(-2, 2),\n",
    "                                 max_total_accel=2,\n",
    "                                 )\n",
    "    print(\"But second track built perfectly!\")\n",
    "except:\n",
    "    print(\"Something went wrong, we shouldn't be here\")"
   ]
  },
  {
   "cell_type": "markdown",
   "metadata": {},
   "source": [
    "Take a look at the track using plot_env"
   ]
  },
  {
   "cell_type": "code",
   "execution_count": 6,
   "metadata": {},
   "outputs": [
    {
     "data": {
      "text/plain": [
       "<matplotlib.axes._subplots.AxesSubplot at 0x1a22ee94da0>"
      ]
     },
     "execution_count": 6,
     "metadata": {},
     "output_type": "execute_result"
    },
    {
     "data": {
      "image/png": "[encoded data removed]",
      "text/plain": [
       "<Figure size 1440x720 with 1 Axes>"
      ]
     },
     "metadata": {
      "needs_background": "light"
     },
     "output_type": "display_data"
    }
   ],
   "source": [
    "plotting.plot_env(env=rt)"
   ]
  },
  {
   "cell_type": "markdown",
   "metadata": {},
   "source": [
    "There are also additional maps available - see the racetrack code base for more"
   ]
  },
  {
   "cell_type": "code",
   "execution_count": 7,
   "metadata": {},
   "outputs": [
    {
     "name": "stdout",
     "output_type": "stream",
     "text": [
      "Available tracks: ['3x4_basic', '5x4_basic', '10x10', '10x10_basic', '10x10_all_oil', '15x15_basic', '20x20_basic', '20x20_all_oil', '30x30_basic', '20x10_U_all_oil', '20x10_U', '10x10_oil', '20x15_risky']\n"
     ]
    }
   ],
   "source": [
    "print(f'Available tracks: {list(environments.racetrack.TRACKS.keys())}')"
   ]
  },
  {
   "cell_type": "markdown",
   "metadata": {},
   "source": [
    "Tracks are simply lists of strings using a specific set of characters.  See the racetrack code for more detail on how to make your own"
   ]
  },
  {
   "cell_type": "code",
   "execution_count": 8,
   "metadata": {},
   "outputs": [
    {
     "name": "stdout",
     "output_type": "stream",
     "text": [
      "GGGGGGGGGGGGGGGGGGGG\n",
      "GGGGGGGGGGGGGGGGGGGG\n",
      "GGG     OOOO      GG\n",
      "GGG     GGGG      GG\n",
      "GGOOOOGGGGGGGGOOOOGG\n",
      "GGOOOGGGGGGGGGGOOOGG\n",
      "GG    GGGGGGGG    GG\n",
      "GG      SGGGGG    GG\n",
      "GGGGGGGGGGGGGGFFFFGG\n",
      "GGGGGGGGGGGGGGFFFFGG\n"
     ]
    }
   ],
   "source": [
    "for line in environments.racetrack.TRACKS['20x10_U']:\n",
    "    print(line)"
   ]
  },
  {
   "cell_type": "markdown",
   "metadata": {},
   "source": [
    "We can draw them using character art!  For example, here is a custom track with more oil and a different shape than above..."
   ]
  },
  {
   "cell_type": "code",
   "execution_count": 9,
   "metadata": {},
   "outputs": [],
   "source": [
    "custom_track = \\\n",
    "\"\"\"GGGGGGGGGGGGGGGGGGGG\n",
    "GGGGGGGGGGGGGGGGGGGG\n",
    "GGGOOOOOOOOOOOOOOOGG\n",
    "GGG     GGGG      GG\n",
    "GG    GGGGGGGG    GG\n",
    "GGOOOOOOSGGGGGOOOOGG\n",
    "GGGGGGGGGGGGGGFFFFGG\n",
    "GGGGGGGGGGGGGGFFFFGG\"\"\"\n",
    "custom_track = custom_track.split('\\n')"
   ]
  },
  {
   "cell_type": "code",
   "execution_count": 10,
   "metadata": {},
   "outputs": [],
   "source": [
    "rt_custom = environments.get_racetrack(track=custom_track,\n",
    "                                 x_vel_limits=(-2, 2),\n",
    "                                 y_vel_limits=(-2, 2),\n",
    "                                 x_accel_limits=(-2, 2),\n",
    "                                 y_accel_limits=(-2, 2),\n",
    "                                 max_total_accel=2,\n",
    "                                 )"
   ]
  },
  {
   "cell_type": "code",
   "execution_count": 11,
   "metadata": {},
   "outputs": [
    {
     "data": {
      "text/plain": [
       "<matplotlib.axes._subplots.AxesSubplot at 0x1a22b2d3898>"
      ]
     },
     "execution_count": 11,
     "metadata": {},
     "output_type": "execute_result"
    },
    {
     "data": {
      "image/png": "[encoded data removed]",
      "text/plain": [
       "<Figure size 1440x576 with 1 Axes>"
      ]
     },
     "metadata": {
      "needs_background": "light"
     },
     "output_type": "display_data"
    }
   ],
   "source": [
    "plotting.plot_env(env=rt_custom)"
   ]
  },
  {
   "cell_type": "markdown",
   "metadata": {},
   "source": [
    "## Solve with Value Iteration and Interrogate Solution"
   ]
  },
  {
   "cell_type": "code",
   "execution_count": 12,
   "metadata": {},
   "outputs": [
    {
     "name": "stderr",
     "output_type": "stream",
     "text": [
      "08:52:29 - lrl.solvers.base_solver - iterate_to_convergence - INFO - Solver iterating to convergence (Max delta in value function < 0.001 or iters>500)\n",
      "08:52:32 - lrl.solvers.base_solver - iterate_to_convergence - INFO - Solver converged to solution in 18 iterations\n"
     ]
    }
   ],
   "source": [
    "rt_vi = solvers.ValueIteration(env=rt)\n",
    "rt_vi.iterate_to_convergence()"
   ]
  },
  {
   "cell_type": "markdown",
   "metadata": {},
   "source": [
    "And we can then score our solution by running it multiple times through the environment"
   ]
  },
  {
   "cell_type": "code",
   "execution_count": 13,
   "metadata": {},
   "outputs": [],
   "source": [
    "scoring_data = rt_vi.score_policy(iters=500)"
   ]
  },
  {
   "cell_type": "markdown",
   "metadata": {},
   "source": [
    "score_policy returns a WalkStatistics object that contains details from each episode taken during the scoring.  Easiest way to interact with it is grabbing data as a dataframe"
   ]
  },
  {
   "cell_type": "code",
   "execution_count": 14,
   "metadata": {},
   "outputs": [
    {
     "name": "stdout",
     "output_type": "stream",
     "text": [
      "type(scoring_data) = <class 'lrl.data_stores.data_stores.WalkStatistics'>\n"
     ]
    },
    {
     "data": {
      "text/html": [
       "<div>\n",
       "<style scoped>\n",
       "    .dataframe tbody tr th:only-of-type {\n",
       "        vertical-align: middle;\n",
       "    }\n",
       "\n",
       "    .dataframe tbody tr th {\n",
       "        vertical-align: top;\n",
       "    }\n",
       "\n",
       "    .dataframe thead th {\n",
       "        text-align: right;\n",
       "    }\n",
       "</style>\n",
       "<table border=\"1\" class=\"dataframe\">\n",
       "  <thead>\n",
       "    <tr style=\"text-align: right;\">\n",
       "      <th></th>\n",
       "      <th>walk_index</th>\n",
       "      <th>reward</th>\n",
       "      <th>steps</th>\n",
       "      <th>terminal</th>\n",
       "      <th>reward_mean</th>\n",
       "      <th>reward_median</th>\n",
       "      <th>reward_std</th>\n",
       "      <th>reward_min</th>\n",
       "      <th>reward_max</th>\n",
       "      <th>steps_mean</th>\n",
       "      <th>steps_median</th>\n",
       "      <th>steps_std</th>\n",
       "      <th>steps_min</th>\n",
       "      <th>steps_max</th>\n",
       "      <th>terminal_fraction</th>\n",
       "      <th>walks</th>\n",
       "    </tr>\n",
       "  </thead>\n",
       "  <tbody>\n",
       "    <tr>\n",
       "      <th>0</th>\n",
       "      <td>0</td>\n",
       "      <td>91.0</td>\n",
       "      <td>11</td>\n",
       "      <td>True</td>\n",
       "      <td>91.0</td>\n",
       "      <td>91.0</td>\n",
       "      <td>0.0</td>\n",
       "      <td>91.0</td>\n",
       "      <td>91.0</td>\n",
       "      <td>11.0</td>\n",
       "      <td>11.0</td>\n",
       "      <td>0.0</td>\n",
       "      <td>11</td>\n",
       "      <td>11</td>\n",
       "      <td>1.0</td>\n",
       "      <td>[(8, 2, 0, 0), (6, 2, -2, 0), (5, 3, -1, 1), (...</td>\n",
       "    </tr>\n",
       "    <tr>\n",
       "      <th>1</th>\n",
       "      <td>1</td>\n",
       "      <td>91.0</td>\n",
       "      <td>11</td>\n",
       "      <td>True</td>\n",
       "      <td>91.0</td>\n",
       "      <td>91.0</td>\n",
       "      <td>0.0</td>\n",
       "      <td>91.0</td>\n",
       "      <td>91.0</td>\n",
       "      <td>11.0</td>\n",
       "      <td>11.0</td>\n",
       "      <td>0.0</td>\n",
       "      <td>11</td>\n",
       "      <td>11</td>\n",
       "      <td>1.0</td>\n",
       "      <td>[(8, 2, 0, 0), (6, 2, -2, 0), (5, 3, -1, 1), (...</td>\n",
       "    </tr>\n",
       "    <tr>\n",
       "      <th>2</th>\n",
       "      <td>2</td>\n",
       "      <td>91.0</td>\n",
       "      <td>11</td>\n",
       "      <td>True</td>\n",
       "      <td>91.0</td>\n",
       "      <td>91.0</td>\n",
       "      <td>0.0</td>\n",
       "      <td>91.0</td>\n",
       "      <td>91.0</td>\n",
       "      <td>11.0</td>\n",
       "      <td>11.0</td>\n",
       "      <td>0.0</td>\n",
       "      <td>11</td>\n",
       "      <td>11</td>\n",
       "      <td>1.0</td>\n",
       "      <td>[(8, 2, 0, 0), (6, 2, -2, 0), (5, 3, -1, 1), (...</td>\n",
       "    </tr>\n",
       "  </tbody>\n",
       "</table>\n",
       "</div>"
      ],
      "text/plain": [
       "   walk_index  reward  steps  terminal  reward_mean  reward_median  \\\n",
       "0           0    91.0     11      True         91.0           91.0   \n",
       "1           1    91.0     11      True         91.0           91.0   \n",
       "2           2    91.0     11      True         91.0           91.0   \n",
       "\n",
       "   reward_std  reward_min  reward_max  steps_mean  steps_median  steps_std  \\\n",
       "0         0.0        91.0        91.0        11.0          11.0        0.0   \n",
       "1         0.0        91.0        91.0        11.0          11.0        0.0   \n",
       "2         0.0        91.0        91.0        11.0          11.0        0.0   \n",
       "\n",
       "   steps_min  steps_max  terminal_fraction  \\\n",
       "0         11         11                1.0   \n",
       "1         11         11                1.0   \n",
       "2         11         11                1.0   \n",
       "\n",
       "                                               walks  \n",
       "0  [(8, 2, 0, 0), (6, 2, -2, 0), (5, 3, -1, 1), (...  \n",
       "1  [(8, 2, 0, 0), (6, 2, -2, 0), (5, 3, -1, 1), (...  \n",
       "2  [(8, 2, 0, 0), (6, 2, -2, 0), (5, 3, -1, 1), (...  "
      ]
     },
     "execution_count": 14,
     "metadata": {},
     "output_type": "execute_result"
    }
   ],
   "source": [
    "print(f'type(scoring_data) = {type(scoring_data)}')\n",
    "scoring_data_df = scoring_data.to_dataframe(include_walks=True)\n",
    "scoring_data_df.head(3)"
   ]
  },
  {
   "cell_type": "code",
   "execution_count": 15,
   "metadata": {},
   "outputs": [
    {
     "data": {
      "text/html": [
       "<div>\n",
       "<style scoped>\n",
       "    .dataframe tbody tr th:only-of-type {\n",
       "        vertical-align: middle;\n",
       "    }\n",
       "\n",
       "    .dataframe tbody tr th {\n",
       "        vertical-align: top;\n",
       "    }\n",
       "\n",
       "    .dataframe thead th {\n",
       "        text-align: right;\n",
       "    }\n",
       "</style>\n",
       "<table border=\"1\" class=\"dataframe\">\n",
       "  <thead>\n",
       "    <tr style=\"text-align: right;\">\n",
       "      <th></th>\n",
       "      <th>walk_index</th>\n",
       "      <th>reward</th>\n",
       "      <th>steps</th>\n",
       "      <th>terminal</th>\n",
       "      <th>reward_mean</th>\n",
       "      <th>reward_median</th>\n",
       "      <th>reward_std</th>\n",
       "      <th>reward_min</th>\n",
       "      <th>reward_max</th>\n",
       "      <th>steps_mean</th>\n",
       "      <th>steps_median</th>\n",
       "      <th>steps_std</th>\n",
       "      <th>steps_min</th>\n",
       "      <th>steps_max</th>\n",
       "      <th>terminal_fraction</th>\n",
       "      <th>walks</th>\n",
       "    </tr>\n",
       "  </thead>\n",
       "  <tbody>\n",
       "    <tr>\n",
       "      <th>497</th>\n",
       "      <td>497</td>\n",
       "      <td>91.0</td>\n",
       "      <td>11</td>\n",
       "      <td>True</td>\n",
       "      <td>90.518072</td>\n",
       "      <td>91.0</td>\n",
       "      <td>0.855337</td>\n",
       "      <td>89.0</td>\n",
       "      <td>91.0</td>\n",
       "      <td>11.481928</td>\n",
       "      <td>11.0</td>\n",
       "      <td>0.855337</td>\n",
       "      <td>11</td>\n",
       "      <td>13</td>\n",
       "      <td>1.0</td>\n",
       "      <td>[(8, 2, 0, 0), (6, 2, -2, 0), (5, 3, -1, 1), (...</td>\n",
       "    </tr>\n",
       "    <tr>\n",
       "      <th>498</th>\n",
       "      <td>498</td>\n",
       "      <td>91.0</td>\n",
       "      <td>11</td>\n",
       "      <td>True</td>\n",
       "      <td>90.519038</td>\n",
       "      <td>91.0</td>\n",
       "      <td>0.854751</td>\n",
       "      <td>89.0</td>\n",
       "      <td>91.0</td>\n",
       "      <td>11.480962</td>\n",
       "      <td>11.0</td>\n",
       "      <td>0.854751</td>\n",
       "      <td>11</td>\n",
       "      <td>13</td>\n",
       "      <td>1.0</td>\n",
       "      <td>[(8, 2, 0, 0), (6, 2, -2, 0), (5, 3, -1, 1), (...</td>\n",
       "    </tr>\n",
       "    <tr>\n",
       "      <th>499</th>\n",
       "      <td>499</td>\n",
       "      <td>91.0</td>\n",
       "      <td>11</td>\n",
       "      <td>True</td>\n",
       "      <td>90.520000</td>\n",
       "      <td>91.0</td>\n",
       "      <td>0.854166</td>\n",
       "      <td>89.0</td>\n",
       "      <td>91.0</td>\n",
       "      <td>11.480000</td>\n",
       "      <td>11.0</td>\n",
       "      <td>0.854166</td>\n",
       "      <td>11</td>\n",
       "      <td>13</td>\n",
       "      <td>1.0</td>\n",
       "      <td>[(8, 2, 0, 0), (6, 2, -2, 0), (5, 3, -1, 1), (...</td>\n",
       "    </tr>\n",
       "  </tbody>\n",
       "</table>\n",
       "</div>"
      ],
      "text/plain": [
       "     walk_index  reward  steps  terminal  reward_mean  reward_median  \\\n",
       "497         497    91.0     11      True    90.518072           91.0   \n",
       "498         498    91.0     11      True    90.519038           91.0   \n",
       "499         499    91.0     11      True    90.520000           91.0   \n",
       "\n",
       "     reward_std  reward_min  reward_max  steps_mean  steps_median  steps_std  \\\n",
       "497    0.855337        89.0        91.0   11.481928          11.0   0.855337   \n",
       "498    0.854751        89.0        91.0   11.480962          11.0   0.854751   \n",
       "499    0.854166        89.0        91.0   11.480000          11.0   0.854166   \n",
       "\n",
       "     steps_min  steps_max  terminal_fraction  \\\n",
       "497         11         13                1.0   \n",
       "498         11         13                1.0   \n",
       "499         11         13                1.0   \n",
       "\n",
       "                                                 walks  \n",
       "497  [(8, 2, 0, 0), (6, 2, -2, 0), (5, 3, -1, 1), (...  \n",
       "498  [(8, 2, 0, 0), (6, 2, -2, 0), (5, 3, -1, 1), (...  \n",
       "499  [(8, 2, 0, 0), (6, 2, -2, 0), (5, 3, -1, 1), (...  "
      ]
     },
     "execution_count": 15,
     "metadata": {},
     "output_type": "execute_result"
    }
   ],
   "source": [
    "scoring_data_df.tail(3)"
   ]
  },
  {
   "cell_type": "markdown",
   "metadata": {},
   "source": [
    "Reward, Steps, and Terminal columns give data on that specific walk, whereas reward_mean, \\_median, etc. columns give aggregate scores up until that walk.  For example:"
   ]
  },
  {
   "cell_type": "code",
   "execution_count": 16,
   "metadata": {},
   "outputs": [
    {
     "name": "stdout",
     "output_type": "stream",
     "text": [
      "The reward obtained in the 499th walk was 91.0\n",
      "The mean reward obtained in the 0-499th walks (inclusive) was 90.52\n"
     ]
    }
   ],
   "source": [
    "print(f'The reward obtained in the 499th walk was {scoring_data_df.loc[499, \"reward\"]}')\n",
    "print(f'The mean reward obtained in the 0-499th walks (inclusive) was {scoring_data_df.loc[499, \"reward_mean\"]}')"
   ]
  },
  {
   "cell_type": "markdown",
   "metadata": {},
   "source": [
    "And we can access the actual episode path for each episode"
   ]
  },
  {
   "cell_type": "code",
   "execution_count": 17,
   "metadata": {},
   "outputs": [
    {
     "name": "stdout",
     "output_type": "stream",
     "text": [
      "Episode 0 (directly)          : [(8, 2, 0, 0), (6, 2, -2, 0), (5, 3, -1, 1), (5, 5, 0, 2), (7, 7, 2, 2), (9, 7, 2, 0), (11, 7, 2, 0), (13, 6, 2, -1), (15, 4, 2, -2), (15, 2, 0, -2), (14, 0, -1, -2)]\n",
      "Episode 0 (from the dataframe): [(8, 2, 0, 0), (6, 2, -2, 0), (5, 3, -1, 1), (5, 5, 0, 2), (7, 7, 2, 2), (9, 7, 2, 0), (11, 7, 2, 0), (13, 6, 2, -1), (15, 4, 2, -2), (15, 2, 0, -2), (14, 0, -1, -2)]\n"
     ]
    }
   ],
   "source": [
    "print(f'Episode 0 (directly)          : {scoring_data.walks[0]}')\n",
    "print(f'Episode 0 (from the dataframe): {scoring_data_df.loc[0, \"walks\"]}')"
   ]
  },
  {
   "cell_type": "markdown",
   "metadata": {},
   "source": [
    "## Plotting Results"
   ]
  },
  {
   "cell_type": "markdown",
   "metadata": {},
   "source": [
    "And plot 100 randomly chosen episodes on the map, returned as a matplotlib axes"
   ]
  },
  {
   "cell_type": "code",
   "execution_count": 18,
   "metadata": {},
   "outputs": [
    {
     "data": {
      "image/png": "[encoded data removed]",
      "text/plain": [
       "<Figure size 1440x720 with 1 Axes>"
      ]
     },
     "metadata": {
      "needs_background": "light"
     },
     "output_type": "display_data"
    }
   ],
   "source": [
    "ax_episodes = plotting.plot_episodes(episodes=scoring_data.walks, env=rt, max_episodes=100, )"
   ]
  },
  {
   "cell_type": "markdown",
   "metadata": {},
   "source": [
    "score_policy also lets us use hypothetical scenario, such as what if we started in a different starting location.  Let's try that by starting in the top left ((x,y) location (3, 7) (x=0 at left, y=0 at bot)) with a velocity of (1, -1), and plot it to our existing axes in red."
   ]
  },
  {
   "cell_type": "code",
   "execution_count": 19,
   "metadata": {},
   "outputs": [
    {
     "data": {
      "image/png": "[encoded data removed]",
      "text/plain": [
       "<Figure size 1440x720 with 1 Axes>"
      ]
     },
     "execution_count": 19,
     "metadata": {},
     "output_type": "execute_result"
    }
   ],
   "source": [
    "scoring_data_alternate = rt_vi.score_policy(iters=500, initial_state=(3, 7, -2, -2))\n",
    "ax_episodes_with_alternate = plotting.plot_episodes(episodes=scoring_data_alternate.walks, env=rt, \n",
    "                                                    add_env_to_plot=False, color='r', ax=ax_episodes\n",
    "#                                                     savefig='my_figure_file',  # If you wanted the figure to save directly \n",
    "                                                                                 # to file, use savefig (used throughout \n",
    "                                                                                 # lrl's plotting scripts)\n",
    "                                                    )\n",
    "\n",
    "# Must get_figure because we're reusing the figure from above and jupyter wont automatically reshow it\n",
    "ax_episodes_with_alternate.get_figure()"
   ]
  },
  {
   "cell_type": "markdown",
   "metadata": {},
   "source": [
    "Where we can see the optimal policy takes a first action of (+2, 0) resulting in a first velocity of (0, -2) to avoid hitting the grass on step 1, then it redirects back up and around the track (although it sometimes slips on (3, 5) and drives down to (3, 3) before recovering)"
   ]
  },
  {
   "cell_type": "markdown",
   "metadata": {},
   "source": [
    "We can also look at the Value function and best policy for all states\n",
    "\n",
    "**NOTE**: Because state is (x, y, v_x, v_y), it is hard to capture all results on our (x, y) maps.  plot_solver_results in this case plots a map for each (v_x, v_y) combination, with the axis title denoting which is the case.  "
   ]
  },
  {
   "cell_type": "code",
   "execution_count": 20,
   "metadata": {},
   "outputs": [
    {
     "name": "stderr",
     "output_type": "stream",
     "text": [
      "C:\\Users\\Scribs\\Anaconda3\\envs\\lrl\\lib\\site-packages\\matplotlib\\pyplot.py:514: RuntimeWarning: More than 20 figures have been opened. Figures created through the pyplot interface (`matplotlib.pyplot.figure`) are retained until explicitly closed and may consume too much memory. (To control this warning, see the rcParam `figure.max_open_warning`).\n",
      "  max_open_warning, RuntimeWarning)\n"
     ]
    }
   ],
   "source": [
    "# Sorry, this will plot 24 plots normally.  \n",
    "# To keep concise, we turn matplotlib inline plotting off then back on and selectively plot a few examples\n",
    "%matplotlib agg\n",
    "ax_results = plotting.plot_solver_results(env=rt, solver=rt_vi)\n",
    "%matplotlib inline\n"
   ]
  },
  {
   "cell_type": "markdown",
   "metadata": {},
   "source": [
    "Plots are indexed by the additional state variables (v_x, v_y), so we can see the policy for v_x=0, v_y=0 like:"
   ]
  },
  {
   "cell_type": "code",
   "execution_count": 21,
   "metadata": {},
   "outputs": [
    {
     "data": {
      "image/png": "[encoded data removed]",
      "text/plain": [
       "<Figure size 2000x1000 with 1 Axes>"
      ]
     },
     "execution_count": 21,
     "metadata": {},
     "output_type": "execute_result"
    }
   ],
   "source": [
    "ax_results[(0, 0)].get_figure()"
   ]
  },
  {
   "cell_type": "markdown",
   "metadata": {},
   "source": [
    "Where we can see the estimated value of the starting (light green) location is 30.59 (including discounting and costs for steps)."
   ]
  },
  {
   "cell_type": "markdown",
   "metadata": {},
   "source": [
    "We can also look at the policy for (-2, -2) (the velocity for our alternate start used above in red):"
   ]
  },
  {
   "cell_type": "code",
   "execution_count": 22,
   "metadata": {},
   "outputs": [
    {
     "data": {
      "image/png": "[encoded data removed]",
      "text/plain": [
       "<Figure size 2000x1000 with 1 Axes>"
      ]
     },
     "execution_count": 22,
     "metadata": {},
     "output_type": "execute_result"
    }
   ],
   "source": [
    "ax_results[(-2, -2)].get_figure()"
   ]
  },
  {
   "cell_type": "markdown",
   "metadata": {},
   "source": [
    "Where we in the top left tile (3, 7) the optimal policy is (2, 0), just as we saw in our red path plot above.  \n",
    "\n",
    "We can also see that tile (2, 2) (bottom left) has a -100 value because it is impossible to not crash with a (-2, -2) initialial velocity from tile (2, 2) given that our acceleration limit is 2. "
   ]
  },
  {
   "cell_type": "markdown",
   "metadata": {},
   "source": [
    "## Solving with Policy Iteration and Comparing to Value Iteration"
   ]
  },
  {
   "cell_type": "markdown",
   "metadata": {},
   "source": [
    "We can also use other solvers"
   ]
  },
  {
   "cell_type": "code",
   "execution_count": 23,
   "metadata": {},
   "outputs": [
    {
     "name": "stderr",
     "output_type": "stream",
     "text": [
      "08:52:49 - lrl.solvers.base_solver - iterate_to_convergence - INFO - Solver iterating to convergence (1 iteration without change in policy or iters>500)\n",
      "08:52:52 - lrl.solvers.base_solver - iterate_to_convergence - INFO - Solver converged to solution in 6 iterations\n"
     ]
    }
   ],
   "source": [
    "rt_pi = solvers.PolicyIteration(env=rt)\n",
    "rt_pi.iterate_to_convergence()"
   ]
  },
  {
   "cell_type": "markdown",
   "metadata": {},
   "source": [
    "We can look at how PI and VI converged relative to each other, comparing the maximum change in value function for each iteration"
   ]
  },
  {
   "cell_type": "code",
   "execution_count": 24,
   "metadata": {},
   "outputs": [
    {
     "data": {
      "text/plain": [
       "<matplotlib.legend.Legend at 0x1a233fe84a8>"
      ]
     },
     "execution_count": 24,
     "metadata": {},
     "output_type": "execute_result"
    },
    {
     "data": {
      "image/png": "[encoded data removed]",
      "text/plain": [
       "<Figure size 432x288 with 1 Axes>"
      ]
     },
     "metadata": {
      "needs_background": "light"
     },
     "output_type": "display_data"
    }
   ],
   "source": [
    "# (these are simple convenience functions for plotting, basically just recipes.  See the plotting API)\n",
    "# We can pass the solver..\n",
    "ax = plotting.plot_solver_convergence(rt_vi, label='vi')\n",
    "\n",
    "# Or going a little deeper into the API, with style being passed to matplotlib's plot function...\n",
    "ax = plotting.plot_solver_convergence_from_df(rt_pi.iteration_data.to_dataframe(), y='delta_max', x='iteration', ax=ax, label='pi', ls='', marker='o')\n",
    "\n",
    "ax.legend()"
   ]
  },
  {
   "cell_type": "markdown",
   "metadata": {},
   "source": [
    "And looking at policy changes per iteration"
   ]
  },
  {
   "cell_type": "code",
   "execution_count": 25,
   "metadata": {},
   "outputs": [
    {
     "data": {
      "text/plain": [
       "<matplotlib.legend.Legend at 0x1a247af9b70>"
      ]
     },
     "execution_count": 25,
     "metadata": {},
     "output_type": "execute_result"
    },
    {
     "data": {
      "image/png": "[encoded data removed]",
      "text/plain": [
       "<Figure size 432x288 with 1 Axes>"
      ]
     },
     "metadata": {
      "needs_background": "light"
     },
     "output_type": "display_data"
    }
   ],
   "source": [
    "# (these are simple convenience functions for plotting, basically just recipes.  See the plotting API)\n",
    "# We can pass the solver..\n",
    "ax = plotting.plot_solver_convergence(rt_vi, y='policy_changes', label='vi')\n",
    "\n",
    "# Or going a little deeper into the API...\n",
    "ax = plotting.plot_solver_convergence_from_df(rt_pi.iteration_data.to_dataframe(), y='policy_changes', x='iteration', ax=ax, label='pi', ls='', marker='o')\n",
    "\n",
    "ax.legend()"
   ]
  },
  {
   "cell_type": "markdown",
   "metadata": {},
   "source": [
    "So we can see PI accomplishes more per iteration.  But, is it faster?  Let's look at time per iteration"
   ]
  },
  {
   "cell_type": "code",
   "execution_count": 26,
   "metadata": {},
   "outputs": [
    {
     "name": "stdout",
     "output_type": "stream",
     "text": [
      "Total solution time for Value Iteration (excludes any scoring time):  2.06s\n",
      "Total solution time for Policy Iteration (excludes any scoring time): 2.34s\n"
     ]
    },
    {
     "data": {
      "image/png": "[encoded data removed]",
      "text/plain": [
       "<Figure size 432x288 with 1 Axes>"
      ]
     },
     "metadata": {
      "needs_background": "light"
     },
     "output_type": "display_data"
    }
   ],
   "source": [
    "# (these are simple convenience functions for plotting, basically just recipes.  See the plotting API)\n",
    "# We can pass the solver..\n",
    "ax = plotting.plot_solver_convergence(rt_vi, y='time', label='vi')\n",
    "\n",
    "# Or going a little deeper into the API...\n",
    "ax = plotting.plot_solver_convergence_from_df(rt_pi.iteration_data.to_dataframe(), y='time', x='iteration', ax=ax, label='pi', ls='', marker='o')\n",
    "\n",
    "ax.legend()\n",
    "\n",
    "print(f'Total solution time for Value Iteration (excludes any scoring time):  {rt_vi.iteration_data.to_dataframe().loc[:, \"time\"].sum():.2f}s')\n",
    "print(f'Total solution time for Policy Iteration (excludes any scoring time): {rt_pi.iteration_data.to_dataframe().loc[:, \"time\"].sum():.2f}s')"
   ]
  },
  {
   "cell_type": "markdown",
   "metadata": {},
   "source": [
    "## Solve with Q-Learning"
   ]
  },
  {
   "cell_type": "markdown",
   "metadata": {},
   "source": [
    "We can also use QLearning, although it needs a few parameters"
   ]
  },
  {
   "cell_type": "code",
   "execution_count": 27,
   "metadata": {},
   "outputs": [],
   "source": [
    "# Let's be explicit with our QLearning settings for alpha and epsilon\n",
    "alpha = 0.1  # Constant alpha during learning\n",
    "\n",
    "# Decay function for epsilon (see QLearning() and decay_functions() in documentation for syntax)\n",
    "# Decay epsilon linearly from 0.2 at timestep (iteration) 0 to 0.05 at timestep 1500, \n",
    "# keeping constant at 0.05 for ts>1500\n",
    "epsilon = {\n",
    "    'type': 'linear',\n",
    "    'initial_value': 0.2, \n",
    "    'initial_timestep': 0,\n",
    "    'final_value': 0.05, \n",
    "    'final_timestep': 1500\n",
    "}\n",
    "\n",
    "# Above PI/VI used the default gamma, but we will specify one here\n",
    "gamma = 0.9\n",
    "\n",
    "# Convergence is kinda tough to interpret automatically for Q-Learning.  One good way to monitor convergence is to\n",
    "# evaluate how good the greedy policy at a given point in the solution is and decide if it is still improving.\n",
    "# We can enable this with score_while_training (available for Value and Policy Iteration as well)\n",
    "# NOTE: During scoring runs, the solver is acting greedily and NOT learning from the environment.  These are separate\n",
    "#       runs solely used to estimate solution progress\n",
    "# NOTE: Scoring every 50 iterations is probably a bit much, but used to show a nice plot below.  The default 500/500 \n",
    "#       is probably a better general guidance\n",
    "score_while_training = {\n",
    "    'n_trains_per_eval': 50,  # Number of training episodes we run per attempt to score the greedy policy \n",
    "                               # (eg: Here we do a scoring run after every 500 training episodes, where training episodes\n",
    "                               # are the usual epsilon-greedy exploration episodes)\n",
    "    'n_evals': 250,  # Number of times we run through the env with the greedy policy whenever we score\n",
    "}\n",
    "# score_while_training = True  # This calls the default settings, which are also 500/500 like above\n",
    "\n",
    "rt_ql = solvers.QLearning(env=rt, alpha=alpha, epsilon=epsilon, gamma=gamma,\n",
    "                          max_iters=5000, score_while_training=score_while_training)"
   ]
  },
  {
   "cell_type": "markdown",
   "metadata": {},
   "source": [
    "(note how long Q-Learning takes for this environment versus the planning algorithms)"
   ]
  },
  {
   "cell_type": "code",
   "execution_count": 28,
   "metadata": {},
   "outputs": [
    {
     "name": "stderr",
     "output_type": "stream",
     "text": [
      "08:52:54 - lrl.solvers.base_solver - iterate_to_convergence - INFO - Solver iterating to convergence (20 episodes with max delta in Q function < 0.1 or iters>5000)\n",
      "08:52:54 - lrl.solvers.learners - iterate - INFO - Performing iteration (episode) 0 of Q-Learning\n",
      "08:52:54 - lrl.solvers.base_solver - iterate_to_convergence - INFO - Current greedy policy being scored 250 times at iteration 50\n",
      "08:52:54 - lrl.solvers.base_solver - iterate_to_convergence - INFO - Current greedy policy achieved: r_mean = -103.0, r_max = -103.0\n",
      "08:52:55 - lrl.solvers.base_solver - iterate_to_convergence - INFO - Current greedy policy being scored 250 times at iteration 100\n",
      "08:52:55 - lrl.solvers.base_solver - iterate_to_convergence - INFO - Current greedy policy achieved: r_mean = -102.0, r_max = -102.0\n",
      "08:52:55 - lrl.solvers.base_solver - iterate_to_convergence - INFO - Current greedy policy being scored 250 times at iteration 150\n",
      "08:52:56 - lrl.solvers.base_solver - iterate_to_convergence - INFO - Current greedy policy achieved: r_mean = -103.304, r_max = -103.0\n",
      "08:52:56 - lrl.solvers.base_solver - iterate_to_convergence - INFO - Current greedy policy being scored 250 times at iteration 200\n",
      "08:52:56 - lrl.solvers.base_solver - iterate_to_convergence - INFO - Current greedy policy achieved: r_mean = -104.0, r_max = -104.0\n",
      "08:52:56 - lrl.solvers.base_solver - iterate_to_convergence - INFO - Current greedy policy being scored 250 times at iteration 250\n",
      "08:52:57 - lrl.solvers.base_solver - iterate_to_convergence - INFO - Current greedy policy achieved: r_mean = -102.752, r_max = -102.0\n",
      "08:52:57 - lrl.solvers.base_solver - iterate_to_convergence - INFO - Current greedy policy being scored 250 times at iteration 300\n",
      "08:52:58 - lrl.solvers.base_solver - iterate_to_convergence - INFO - Current greedy policy achieved: r_mean = -105.0, r_max = -105.0\n",
      "08:52:58 - lrl.solvers.base_solver - iterate_to_convergence - INFO - Current greedy policy being scored 250 times at iteration 350\n",
      "08:52:58 - lrl.solvers.base_solver - iterate_to_convergence - INFO - Current greedy policy achieved: r_mean = -103.0, r_max = -103.0\n",
      "08:52:59 - lrl.solvers.base_solver - iterate_to_convergence - INFO - Current greedy policy being scored 250 times at iteration 400\n",
      "08:52:59 - lrl.solvers.base_solver - iterate_to_convergence - INFO - Current greedy policy achieved: r_mean = -103.0, r_max = -103.0\n",
      "08:52:59 - lrl.solvers.base_solver - iterate_to_convergence - INFO - Current greedy policy being scored 250 times at iteration 450\n",
      "08:53:00 - lrl.solvers.base_solver - iterate_to_convergence - INFO - Current greedy policy achieved: r_mean = -103.76, r_max = -103.0\n",
      "08:53:00 - lrl.solvers.base_solver - iterate_to_convergence - INFO - Current greedy policy being scored 250 times at iteration 500\n",
      "08:53:01 - lrl.solvers.base_solver - iterate_to_convergence - INFO - Current greedy policy achieved: r_mean = -100.0, r_max = -100.0\n",
      "08:53:01 - lrl.solvers.learners - iterate - INFO - Performing iteration (episode) 500 of Q-Learning\n",
      "08:53:01 - lrl.solvers.base_solver - iterate_to_convergence - INFO - Current greedy policy being scored 250 times at iteration 550\n",
      "08:53:02 - lrl.solvers.base_solver - iterate_to_convergence - INFO - Current greedy policy achieved: r_mean = -103.0, r_max = -103.0\n",
      "08:53:02 - lrl.solvers.base_solver - iterate_to_convergence - INFO - Current greedy policy being scored 250 times at iteration 600\n",
      "08:53:02 - lrl.solvers.base_solver - iterate_to_convergence - INFO - Current greedy policy achieved: r_mean = -103.0, r_max = -103.0\n",
      "08:53:02 - lrl.solvers.base_solver - iterate_to_convergence - INFO - Current greedy policy being scored 250 times at iteration 650\n",
      "08:53:03 - lrl.solvers.base_solver - iterate_to_convergence - INFO - Current greedy policy achieved: r_mean = -103.0, r_max = -103.0\n",
      "08:53:03 - lrl.solvers.base_solver - iterate_to_convergence - INFO - Current greedy policy being scored 250 times at iteration 700\n",
      "08:53:04 - lrl.solvers.base_solver - iterate_to_convergence - INFO - Current greedy policy achieved: r_mean = -104.0, r_max = -104.0\n",
      "08:53:04 - lrl.solvers.base_solver - iterate_to_convergence - INFO - Current greedy policy being scored 250 times at iteration 750\n",
      "08:53:04 - lrl.solvers.base_solver - iterate_to_convergence - INFO - Current greedy policy achieved: r_mean = -106.0, r_max = -106.0\n",
      "08:53:04 - lrl.solvers.base_solver - iterate_to_convergence - INFO - Current greedy policy being scored 250 times at iteration 800\n",
      "08:53:05 - lrl.solvers.base_solver - iterate_to_convergence - INFO - Current greedy policy achieved: r_mean = -103.756, r_max = -103.0\n",
      "08:53:05 - lrl.solvers.base_solver - iterate_to_convergence - INFO - Current greedy policy being scored 250 times at iteration 850\n",
      "08:53:06 - lrl.solvers.base_solver - iterate_to_convergence - INFO - Current greedy policy achieved: r_mean = -103.0, r_max = -103.0\n",
      "08:53:06 - lrl.solvers.base_solver - iterate_to_convergence - INFO - Current greedy policy being scored 250 times at iteration 900\n",
      "08:53:06 - lrl.solvers.base_solver - iterate_to_convergence - INFO - Current greedy policy achieved: r_mean = -104.448, r_max = -104.0\n",
      "08:53:06 - lrl.solvers.base_solver - iterate_to_convergence - INFO - Current greedy policy being scored 250 times at iteration 950\n",
      "08:53:07 - lrl.solvers.base_solver - iterate_to_convergence - INFO - Current greedy policy achieved: r_mean = -107.208, r_max = -105.0\n",
      "08:53:07 - lrl.solvers.base_solver - iterate_to_convergence - INFO - Current greedy policy being scored 250 times at iteration 1000\n",
      "08:53:08 - lrl.solvers.base_solver - iterate_to_convergence - INFO - Current greedy policy achieved: r_mean = -105.772, r_max = -104.0\n",
      "08:53:08 - lrl.solvers.learners - iterate - INFO - Performing iteration (episode) 1000 of Q-Learning\n",
      "08:53:08 - lrl.solvers.base_solver - iterate_to_convergence - INFO - Current greedy policy being scored 250 times at iteration 1050\n",
      "08:53:08 - lrl.solvers.base_solver - iterate_to_convergence - INFO - Current greedy policy achieved: r_mean = -104.0, r_max = -104.0\n",
      "08:53:09 - lrl.solvers.base_solver - iterate_to_convergence - INFO - Current greedy policy being scored 250 times at iteration 1100\n",
      "08:53:09 - lrl.solvers.base_solver - iterate_to_convergence - INFO - Current greedy policy achieved: r_mean = -104.0, r_max = -104.0\n",
      "08:53:09 - lrl.solvers.base_solver - iterate_to_convergence - INFO - Current greedy policy being scored 250 times at iteration 1150\n",
      "08:53:10 - lrl.solvers.base_solver - iterate_to_convergence - INFO - Current greedy policy achieved: r_mean = -104.96, r_max = -104.0\n",
      "08:53:10 - lrl.solvers.base_solver - iterate_to_convergence - INFO - Current greedy policy being scored 250 times at iteration 1200\n",
      "08:53:11 - lrl.solvers.base_solver - iterate_to_convergence - INFO - Current greedy policy achieved: r_mean = -105.0, r_max = -105.0\n",
      "08:53:11 - lrl.solvers.base_solver - iterate_to_convergence - INFO - Current greedy policy being scored 250 times at iteration 1250\n",
      "08:53:11 - lrl.solvers.base_solver - iterate_to_convergence - INFO - Current greedy policy achieved: r_mean = -107.0, r_max = -107.0\n",
      "08:53:12 - lrl.solvers.base_solver - iterate_to_convergence - INFO - Current greedy policy being scored 250 times at iteration 1300\n",
      "08:53:12 - lrl.solvers.base_solver - iterate_to_convergence - INFO - Current greedy policy achieved: r_mean = -105.0, r_max = -105.0\n",
      "08:53:12 - lrl.solvers.base_solver - iterate_to_convergence - INFO - Current greedy policy being scored 250 times at iteration 1350\n",
      "08:53:13 - lrl.solvers.base_solver - iterate_to_convergence - INFO - Current greedy policy achieved: r_mean = -104.168, r_max = -104.0\n",
      "08:53:13 - lrl.solvers.base_solver - iterate_to_convergence - INFO - Current greedy policy being scored 250 times at iteration 1400\n",
      "08:53:14 - lrl.solvers.base_solver - iterate_to_convergence - INFO - Current greedy policy achieved: r_mean = -106.74, r_max = -106.0\n",
      "08:53:14 - lrl.solvers.base_solver - iterate_to_convergence - INFO - Current greedy policy being scored 250 times at iteration 1450\n",
      "08:53:14 - lrl.solvers.base_solver - iterate_to_convergence - INFO - Current greedy policy achieved: r_mean = -105.0, r_max = -105.0\n",
      "08:53:15 - lrl.solvers.base_solver - iterate_to_convergence - INFO - Current greedy policy being scored 250 times at iteration 1500\n"
     ]
    },
    {
     "name": "stderr",
     "output_type": "stream",
     "text": [
      "08:53:15 - lrl.solvers.base_solver - iterate_to_convergence - INFO - Current greedy policy achieved: r_mean = -105.0, r_max = -105.0\n",
      "08:53:15 - lrl.solvers.learners - iterate - INFO - Performing iteration (episode) 1500 of Q-Learning\n",
      "08:53:15 - lrl.solvers.base_solver - iterate_to_convergence - INFO - Current greedy policy being scored 250 times at iteration 1550\n",
      "08:53:16 - lrl.solvers.base_solver - iterate_to_convergence - INFO - Current greedy policy achieved: r_mean = -106.316, r_max = -104.0\n",
      "08:53:16 - lrl.solvers.base_solver - iterate_to_convergence - INFO - Current greedy policy being scored 250 times at iteration 1600\n",
      "08:53:16 - lrl.solvers.base_solver - iterate_to_convergence - INFO - Current greedy policy achieved: r_mean = -108.472, r_max = -108.0\n",
      "08:53:17 - lrl.solvers.base_solver - iterate_to_convergence - INFO - Current greedy policy being scored 250 times at iteration 1650\n",
      "08:53:17 - lrl.solvers.base_solver - iterate_to_convergence - INFO - Current greedy policy achieved: r_mean = -104.608, r_max = -104.0\n",
      "08:53:17 - lrl.solvers.base_solver - iterate_to_convergence - INFO - Current greedy policy being scored 250 times at iteration 1700\n",
      "08:53:18 - lrl.solvers.base_solver - iterate_to_convergence - INFO - Current greedy policy achieved: r_mean = -100.0, r_max = -100.0\n",
      "08:53:18 - lrl.solvers.base_solver - iterate_to_convergence - INFO - Current greedy policy being scored 250 times at iteration 1750\n",
      "08:53:19 - lrl.solvers.base_solver - iterate_to_convergence - INFO - Current greedy policy achieved: r_mean = -108.82, r_max = -100.0\n",
      "08:53:19 - lrl.solvers.base_solver - iterate_to_convergence - INFO - Current greedy policy being scored 250 times at iteration 1800\n",
      "08:53:20 - lrl.solvers.base_solver - iterate_to_convergence - INFO - Current greedy policy achieved: r_mean = -106.568, r_max = -106.0\n",
      "08:53:20 - lrl.solvers.base_solver - iterate_to_convergence - INFO - Current greedy policy being scored 250 times at iteration 1850\n",
      "08:53:20 - lrl.solvers.base_solver - iterate_to_convergence - INFO - Current greedy policy achieved: r_mean = -105.704, r_max = -104.0\n",
      "08:53:21 - lrl.solvers.base_solver - iterate_to_convergence - INFO - Current greedy policy being scored 250 times at iteration 1900\n",
      "08:53:21 - lrl.solvers.base_solver - iterate_to_convergence - INFO - Current greedy policy achieved: r_mean = -107.192, r_max = -106.0\n",
      "08:53:21 - lrl.solvers.base_solver - iterate_to_convergence - INFO - Current greedy policy being scored 250 times at iteration 1950\n",
      "08:53:22 - lrl.solvers.base_solver - iterate_to_convergence - INFO - Current greedy policy achieved: r_mean = -110.656, r_max = -110.0\n",
      "08:53:22 - lrl.solvers.base_solver - iterate_to_convergence - INFO - Current greedy policy being scored 250 times at iteration 2000\n",
      "08:53:23 - lrl.solvers.base_solver - iterate_to_convergence - INFO - Current greedy policy achieved: r_mean = -106.784, r_max = -105.0\n",
      "08:53:23 - lrl.solvers.learners - iterate - INFO - Performing iteration (episode) 2000 of Q-Learning\n",
      "08:53:23 - lrl.solvers.base_solver - iterate_to_convergence - INFO - Current greedy policy being scored 250 times at iteration 2050\n",
      "08:53:24 - lrl.solvers.base_solver - iterate_to_convergence - INFO - Current greedy policy achieved: r_mean = -100.0, r_max = -100.0\n",
      "08:53:24 - lrl.solvers.base_solver - iterate_to_convergence - INFO - Current greedy policy being scored 250 times at iteration 2100\n",
      "08:53:24 - lrl.solvers.base_solver - iterate_to_convergence - INFO - Current greedy policy achieved: r_mean = -107.652, r_max = -100.0\n",
      "08:53:25 - lrl.solvers.base_solver - iterate_to_convergence - INFO - Current greedy policy being scored 250 times at iteration 2150\n",
      "08:53:25 - lrl.solvers.base_solver - iterate_to_convergence - INFO - Current greedy policy achieved: r_mean = -112.0, r_max = -112.0\n",
      "08:53:25 - lrl.solvers.base_solver - iterate_to_convergence - INFO - Current greedy policy being scored 250 times at iteration 2200\n",
      "08:53:26 - lrl.solvers.base_solver - iterate_to_convergence - INFO - Current greedy policy achieved: r_mean = -106.952, r_max = -100.0\n",
      "08:53:26 - lrl.solvers.base_solver - iterate_to_convergence - INFO - Current greedy policy being scored 250 times at iteration 2250\n",
      "08:53:27 - lrl.solvers.base_solver - iterate_to_convergence - INFO - Current greedy policy achieved: r_mean = -128.404, r_max = -100.0\n",
      "08:53:27 - lrl.solvers.base_solver - iterate_to_convergence - INFO - Current greedy policy being scored 250 times at iteration 2300\n",
      "08:53:28 - lrl.solvers.base_solver - iterate_to_convergence - INFO - Current greedy policy achieved: r_mean = -106.976, r_max = -104.0\n",
      "08:53:28 - lrl.solvers.base_solver - iterate_to_convergence - INFO - Current greedy policy being scored 250 times at iteration 2350\n",
      "08:53:28 - lrl.solvers.base_solver - iterate_to_convergence - INFO - Current greedy policy achieved: r_mean = -110.268, r_max = -100.0\n",
      "08:53:29 - lrl.solvers.base_solver - iterate_to_convergence - INFO - Current greedy policy being scored 250 times at iteration 2400\n",
      "08:53:29 - lrl.solvers.base_solver - iterate_to_convergence - INFO - Current greedy policy achieved: r_mean = -108.4, r_max = -107.0\n",
      "08:53:29 - lrl.solvers.base_solver - iterate_to_convergence - INFO - Current greedy policy being scored 250 times at iteration 2450\n",
      "08:53:30 - lrl.solvers.base_solver - iterate_to_convergence - INFO - Current greedy policy achieved: r_mean = -112.468, r_max = -106.0\n",
      "08:53:30 - lrl.solvers.base_solver - iterate_to_convergence - INFO - Current greedy policy being scored 250 times at iteration 2500\n",
      "08:53:31 - lrl.solvers.base_solver - iterate_to_convergence - INFO - Current greedy policy achieved: r_mean = -108.0, r_max = -108.0\n",
      "08:53:31 - lrl.solvers.learners - iterate - INFO - Performing iteration (episode) 2500 of Q-Learning\n",
      "08:53:31 - lrl.solvers.base_solver - iterate_to_convergence - INFO - Current greedy policy being scored 250 times at iteration 2550\n",
      "08:53:31 - lrl.solvers.base_solver - iterate_to_convergence - INFO - Current greedy policy achieved: r_mean = -111.0, r_max = -111.0\n",
      "08:53:32 - lrl.solvers.base_solver - iterate_to_convergence - INFO - Current greedy policy being scored 250 times at iteration 2600\n",
      "08:53:32 - lrl.solvers.base_solver - iterate_to_convergence - INFO - Current greedy policy achieved: r_mean = -107.624, r_max = -100.0\n",
      "08:53:33 - lrl.solvers.base_solver - iterate_to_convergence - INFO - Current greedy policy being scored 250 times at iteration 2650\n",
      "08:53:33 - lrl.solvers.base_solver - iterate_to_convergence - INFO - Current greedy policy achieved: r_mean = -110.016, r_max = -105.0\n",
      "08:53:33 - lrl.solvers.base_solver - iterate_to_convergence - INFO - Current greedy policy being scored 250 times at iteration 2700\n",
      "08:53:34 - lrl.solvers.base_solver - iterate_to_convergence - INFO - Current greedy policy achieved: r_mean = -100.0, r_max = -100.0\n",
      "08:53:34 - lrl.solvers.base_solver - iterate_to_convergence - INFO - Current greedy policy being scored 250 times at iteration 2750\n",
      "08:53:35 - lrl.solvers.base_solver - iterate_to_convergence - INFO - Current greedy policy achieved: r_mean = -100.0, r_max = -100.0\n",
      "08:53:35 - lrl.solvers.base_solver - iterate_to_convergence - INFO - Current greedy policy being scored 250 times at iteration 2800\n",
      "08:53:36 - lrl.solvers.base_solver - iterate_to_convergence - INFO - Current greedy policy achieved: r_mean = -108.976, r_max = -100.0\n",
      "08:53:36 - lrl.solvers.base_solver - iterate_to_convergence - INFO - Current greedy policy being scored 250 times at iteration 2850\n",
      "08:53:37 - lrl.solvers.base_solver - iterate_to_convergence - INFO - Current greedy policy achieved: r_mean = -107.084, r_max = -106.0\n",
      "08:53:37 - lrl.solvers.base_solver - iterate_to_convergence - INFO - Current greedy policy being scored 250 times at iteration 2900\n",
      "08:53:38 - lrl.solvers.base_solver - iterate_to_convergence - INFO - Current greedy policy achieved: r_mean = -107.508, r_max = -107.0\n",
      "08:53:38 - lrl.solvers.base_solver - iterate_to_convergence - INFO - Current greedy policy being scored 250 times at iteration 2950\n",
      "08:53:39 - lrl.solvers.base_solver - iterate_to_convergence - INFO - Current greedy policy achieved: r_mean = -107.716, r_max = -104.0\n",
      "08:53:39 - lrl.solvers.base_solver - iterate_to_convergence - INFO - Current greedy policy being scored 250 times at iteration 3000\n"
     ]
    },
    {
     "name": "stderr",
     "output_type": "stream",
     "text": [
      "08:53:40 - lrl.solvers.base_solver - iterate_to_convergence - INFO - Current greedy policy achieved: r_mean = -66.6, r_max = 87.0\n",
      "08:53:40 - lrl.solvers.learners - iterate - INFO - Performing iteration (episode) 3000 of Q-Learning\n",
      "08:53:40 - lrl.solvers.base_solver - iterate_to_convergence - INFO - Current greedy policy being scored 250 times at iteration 3050\n",
      "08:53:41 - lrl.solvers.base_solver - iterate_to_convergence - INFO - Current greedy policy achieved: r_mean = -104.888, r_max = -104.0\n",
      "08:53:41 - lrl.solvers.base_solver - iterate_to_convergence - INFO - Current greedy policy being scored 250 times at iteration 3100\n",
      "08:53:42 - lrl.solvers.base_solver - iterate_to_convergence - INFO - Current greedy policy achieved: r_mean = -110.8, r_max = -110.0\n",
      "08:53:42 - lrl.solvers.base_solver - iterate_to_convergence - INFO - Current greedy policy being scored 250 times at iteration 3150\n",
      "08:53:43 - lrl.solvers.base_solver - iterate_to_convergence - INFO - Current greedy policy achieved: r_mean = -100.0, r_max = -100.0\n",
      "08:53:43 - lrl.solvers.base_solver - iterate_to_convergence - INFO - Current greedy policy being scored 250 times at iteration 3200\n",
      "08:53:44 - lrl.solvers.base_solver - iterate_to_convergence - INFO - Current greedy policy achieved: r_mean = -101.692, r_max = 83.0\n",
      "08:53:44 - lrl.solvers.base_solver - iterate_to_convergence - INFO - Current greedy policy being scored 250 times at iteration 3250\n",
      "08:53:44 - lrl.solvers.base_solver - iterate_to_convergence - INFO - Current greedy policy achieved: r_mean = -103.744, r_max = -100.0\n",
      "08:53:45 - lrl.solvers.base_solver - iterate_to_convergence - INFO - Current greedy policy being scored 250 times at iteration 3300\n",
      "08:53:45 - lrl.solvers.base_solver - iterate_to_convergence - INFO - Current greedy policy achieved: r_mean = -113.088, r_max = -107.0\n",
      "08:53:46 - lrl.solvers.base_solver - iterate_to_convergence - INFO - Current greedy policy being scored 250 times at iteration 3350\n",
      "08:53:46 - lrl.solvers.base_solver - iterate_to_convergence - INFO - Current greedy policy achieved: r_mean = -103.576, r_max = -100.0\n",
      "08:53:47 - lrl.solvers.base_solver - iterate_to_convergence - INFO - Current greedy policy being scored 250 times at iteration 3400\n",
      "08:53:47 - lrl.solvers.base_solver - iterate_to_convergence - INFO - Current greedy policy achieved: r_mean = -106.544, r_max = -100.0\n",
      "08:53:48 - lrl.solvers.base_solver - iterate_to_convergence - INFO - Current greedy policy being scored 250 times at iteration 3450\n",
      "08:53:48 - lrl.solvers.base_solver - iterate_to_convergence - INFO - Current greedy policy achieved: r_mean = -107.776, r_max = -100.0\n",
      "08:53:48 - lrl.solvers.base_solver - iterate_to_convergence - INFO - Current greedy policy being scored 250 times at iteration 3500\n",
      "08:53:49 - lrl.solvers.base_solver - iterate_to_convergence - INFO - Current greedy policy achieved: r_mean = -107.008, r_max = 81.0\n",
      "08:53:49 - lrl.solvers.learners - iterate - INFO - Performing iteration (episode) 3500 of Q-Learning\n",
      "08:53:49 - lrl.solvers.base_solver - iterate_to_convergence - INFO - Current greedy policy being scored 250 times at iteration 3550\n",
      "08:53:50 - lrl.solvers.base_solver - iterate_to_convergence - INFO - Current greedy policy achieved: r_mean = -109.248, r_max = -108.0\n",
      "08:53:50 - lrl.solvers.base_solver - iterate_to_convergence - INFO - Current greedy policy being scored 250 times at iteration 3600\n",
      "08:53:51 - lrl.solvers.base_solver - iterate_to_convergence - INFO - Current greedy policy achieved: r_mean = -102.404, r_max = -100.0\n",
      "08:53:51 - lrl.solvers.base_solver - iterate_to_convergence - INFO - Current greedy policy being scored 250 times at iteration 3650\n",
      "08:53:52 - lrl.solvers.base_solver - iterate_to_convergence - INFO - Current greedy policy achieved: r_mean = -100.0, r_max = -100.0\n",
      "08:53:53 - lrl.solvers.base_solver - iterate_to_convergence - INFO - Current greedy policy being scored 250 times at iteration 3700\n",
      "08:53:53 - lrl.solvers.base_solver - iterate_to_convergence - INFO - Current greedy policy achieved: r_mean = -78.492, r_max = 87.0\n",
      "08:53:54 - lrl.solvers.base_solver - iterate_to_convergence - INFO - Current greedy policy being scored 250 times at iteration 3750\n",
      "08:53:54 - lrl.solvers.base_solver - iterate_to_convergence - INFO - Current greedy policy achieved: r_mean = -93.008, r_max = 73.0\n",
      "08:53:55 - lrl.solvers.base_solver - iterate_to_convergence - INFO - Current greedy policy being scored 250 times at iteration 3800\n",
      "08:53:56 - lrl.solvers.base_solver - iterate_to_convergence - INFO - Current greedy policy achieved: r_mean = 41.308, r_max = 88.0\n",
      "08:53:56 - lrl.solvers.base_solver - iterate_to_convergence - INFO - Current greedy policy being scored 250 times at iteration 3850\n",
      "08:53:56 - lrl.solvers.base_solver - iterate_to_convergence - INFO - Current greedy policy achieved: r_mean = 76.848, r_max = 90.0\n",
      "08:53:57 - lrl.solvers.base_solver - iterate_to_convergence - INFO - Current greedy policy being scored 250 times at iteration 3900\n",
      "08:53:57 - lrl.solvers.base_solver - iterate_to_convergence - INFO - Current greedy policy achieved: r_mean = 82.38, r_max = 90.0\n",
      "08:53:58 - lrl.solvers.base_solver - iterate_to_convergence - INFO - Current greedy policy being scored 250 times at iteration 3950\n",
      "08:53:58 - lrl.solvers.base_solver - iterate_to_convergence - INFO - Current greedy policy achieved: r_mean = 79.992, r_max = 90.0\n",
      "08:53:59 - lrl.solvers.base_solver - iterate_to_convergence - INFO - Current greedy policy being scored 250 times at iteration 4000\n",
      "08:53:59 - lrl.solvers.base_solver - iterate_to_convergence - INFO - Current greedy policy achieved: r_mean = 84.78, r_max = 90.0\n",
      "08:53:59 - lrl.solvers.learners - iterate - INFO - Performing iteration (episode) 4000 of Q-Learning\n",
      "08:54:00 - lrl.solvers.base_solver - iterate_to_convergence - INFO - Current greedy policy being scored 250 times at iteration 4050\n",
      "08:54:00 - lrl.solvers.base_solver - iterate_to_convergence - INFO - Current greedy policy achieved: r_mean = 82.44, r_max = 90.0\n",
      "08:54:01 - lrl.solvers.base_solver - iterate_to_convergence - INFO - Current greedy policy being scored 250 times at iteration 4100\n",
      "08:54:01 - lrl.solvers.base_solver - iterate_to_convergence - INFO - Current greedy policy achieved: r_mean = 80.832, r_max = 90.0\n",
      "08:54:02 - lrl.solvers.base_solver - iterate_to_convergence - INFO - Current greedy policy being scored 250 times at iteration 4150\n",
      "08:54:03 - lrl.solvers.base_solver - iterate_to_convergence - INFO - Current greedy policy achieved: r_mean = 79.252, r_max = 90.0\n",
      "08:54:03 - lrl.solvers.base_solver - iterate_to_convergence - INFO - Current greedy policy being scored 250 times at iteration 4200\n",
      "08:54:03 - lrl.solvers.base_solver - iterate_to_convergence - INFO - Current greedy policy achieved: r_mean = 80.8, r_max = 90.0\n",
      "08:54:04 - lrl.solvers.base_solver - iterate_to_convergence - INFO - Current greedy policy being scored 250 times at iteration 4250\n",
      "08:54:05 - lrl.solvers.base_solver - iterate_to_convergence - INFO - Current greedy policy achieved: r_mean = 83.188, r_max = 90.0\n",
      "08:54:05 - lrl.solvers.base_solver - iterate_to_convergence - INFO - Current greedy policy being scored 250 times at iteration 4300\n",
      "08:54:05 - lrl.solvers.base_solver - iterate_to_convergence - INFO - Current greedy policy achieved: r_mean = 84.064, r_max = 90.0\n",
      "08:54:06 - lrl.solvers.base_solver - iterate_to_convergence - INFO - Current greedy policy being scored 250 times at iteration 4350\n",
      "08:54:06 - lrl.solvers.base_solver - iterate_to_convergence - INFO - Current greedy policy achieved: r_mean = 81.644, r_max = 90.0\n",
      "08:54:06 - lrl.solvers.base_solver - iterate_to_convergence - INFO - Current greedy policy being scored 250 times at iteration 4400\n",
      "08:54:07 - lrl.solvers.base_solver - iterate_to_convergence - INFO - Current greedy policy achieved: r_mean = 77.64, r_max = 90.0\n",
      "08:54:08 - lrl.solvers.base_solver - iterate_to_convergence - INFO - Current greedy policy being scored 250 times at iteration 4450\n",
      "08:54:08 - lrl.solvers.base_solver - iterate_to_convergence - INFO - Current greedy policy achieved: r_mean = 85.596, r_max = 90.0\n",
      "08:54:09 - lrl.solvers.base_solver - iterate_to_convergence - INFO - Current greedy policy being scored 250 times at iteration 4500\n"
     ]
    },
    {
     "name": "stderr",
     "output_type": "stream",
     "text": [
      "08:54:10 - lrl.solvers.base_solver - iterate_to_convergence - INFO - Current greedy policy achieved: r_mean = 81.616, r_max = 90.0\n",
      "08:54:10 - lrl.solvers.learners - iterate - INFO - Performing iteration (episode) 4500 of Q-Learning\n",
      "08:54:10 - lrl.solvers.base_solver - iterate_to_convergence - INFO - Current greedy policy being scored 250 times at iteration 4550\n",
      "08:54:11 - lrl.solvers.base_solver - iterate_to_convergence - INFO - Current greedy policy achieved: r_mean = 76.04, r_max = 90.0\n",
      "08:54:11 - lrl.solvers.base_solver - iterate_to_convergence - INFO - Current greedy policy being scored 250 times at iteration 4600\n",
      "08:54:12 - lrl.solvers.base_solver - iterate_to_convergence - INFO - Current greedy policy achieved: r_mean = 78.48, r_max = 90.0\n",
      "08:54:12 - lrl.solvers.base_solver - iterate_to_convergence - INFO - Current greedy policy being scored 250 times at iteration 4650\n",
      "08:54:12 - lrl.solvers.base_solver - iterate_to_convergence - INFO - Current greedy policy achieved: r_mean = 81.684, r_max = 90.0\n",
      "08:54:13 - lrl.solvers.base_solver - iterate_to_convergence - INFO - Current greedy policy being scored 250 times at iteration 4700\n",
      "08:54:14 - lrl.solvers.base_solver - iterate_to_convergence - INFO - Current greedy policy achieved: r_mean = 82.416, r_max = 90.0\n",
      "08:54:14 - lrl.solvers.base_solver - iterate_to_convergence - INFO - Current greedy policy being scored 250 times at iteration 4750\n",
      "08:54:15 - lrl.solvers.base_solver - iterate_to_convergence - INFO - Current greedy policy achieved: r_mean = 82.496, r_max = 90.0\n",
      "08:54:15 - lrl.solvers.base_solver - iterate_to_convergence - INFO - Current greedy policy being scored 250 times at iteration 4800\n",
      "08:54:16 - lrl.solvers.base_solver - iterate_to_convergence - INFO - Current greedy policy achieved: r_mean = 81.56, r_max = 90.0\n",
      "08:54:16 - lrl.solvers.base_solver - iterate_to_convergence - INFO - Current greedy policy being scored 250 times at iteration 4850\n",
      "08:54:17 - lrl.solvers.base_solver - iterate_to_convergence - INFO - Current greedy policy achieved: r_mean = 79.184, r_max = 90.0\n",
      "08:54:17 - lrl.solvers.base_solver - iterate_to_convergence - INFO - Current greedy policy being scored 250 times at iteration 4900\n",
      "08:54:18 - lrl.solvers.base_solver - iterate_to_convergence - INFO - Current greedy policy achieved: r_mean = 75.976, r_max = 90.0\n",
      "08:54:18 - lrl.solvers.base_solver - iterate_to_convergence - INFO - Current greedy policy being scored 250 times at iteration 4950\n",
      "08:54:19 - lrl.solvers.base_solver - iterate_to_convergence - INFO - Current greedy policy achieved: r_mean = 78.392, r_max = 90.0\n",
      "08:54:19 - lrl.solvers.base_solver - iterate_to_convergence - INFO - Current greedy policy being scored 250 times at iteration 5000\n",
      "08:54:19 - lrl.solvers.base_solver - iterate_to_convergence - INFO - Current greedy policy achieved: r_mean = 79.212, r_max = 90.0\n",
      "08:54:19 - lrl.solvers.base_solver - iterate_to_convergence - WARNING - Max iterations (5000) reached - solver did not converge\n"
     ]
    }
   ],
   "source": [
    "rt_ql.iterate_to_convergence()"
   ]
  },
  {
   "cell_type": "markdown",
   "metadata": {},
   "source": [
    "Like above, we can plot the number of policy changes per iteration.  But this plot looks very different from above and shows one view of why Q-Learning takes many more iterations (each iteration accomplishes a lot less learning than a planning algorithm)"
   ]
  },
  {
   "cell_type": "code",
   "execution_count": 29,
   "metadata": {},
   "outputs": [
    {
     "data": {
      "text/plain": [
       "<matplotlib.axes._subplots.AxesSubplot at 0x1a249b91940>"
      ]
     },
     "execution_count": 29,
     "metadata": {},
     "output_type": "execute_result"
    },
    {
     "data": {
      "image/png": "[encoded data removed]",
      "text/plain": [
       "<Figure size 432x288 with 1 Axes>"
      ]
     },
     "metadata": {
      "needs_background": "light"
     },
     "output_type": "display_data"
    }
   ],
   "source": [
    "rt_ql_iter_df = rt_ql.iteration_data.to_dataframe()\n",
    "rt_ql_iter_df.plot(x='iteration', y='policy_changes', kind='scatter', )"
   ]
  },
  {
   "cell_type": "markdown",
   "metadata": {},
   "source": [
    "We can access the intermediate scoring through the scoring_summary (GeneralIterationData) and scoring_walk_statistics (WalkStatistics) objects"
   ]
  },
  {
   "cell_type": "code",
   "execution_count": 30,
   "metadata": {},
   "outputs": [
    {
     "data": {
      "text/html": [
       "<div>\n",
       "<style scoped>\n",
       "    .dataframe tbody tr th:only-of-type {\n",
       "        vertical-align: middle;\n",
       "    }\n",
       "\n",
       "    .dataframe tbody tr th {\n",
       "        vertical-align: top;\n",
       "    }\n",
       "\n",
       "    .dataframe thead th {\n",
       "        text-align: right;\n",
       "    }\n",
       "</style>\n",
       "<table border=\"1\" class=\"dataframe\">\n",
       "  <thead>\n",
       "    <tr style=\"text-align: right;\">\n",
       "      <th></th>\n",
       "      <th>iteration</th>\n",
       "      <th>reward_mean</th>\n",
       "      <th>reward_median</th>\n",
       "      <th>reward_std</th>\n",
       "      <th>reward_min</th>\n",
       "      <th>reward_max</th>\n",
       "      <th>steps_mean</th>\n",
       "      <th>steps_median</th>\n",
       "      <th>steps_std</th>\n",
       "      <th>steps_min</th>\n",
       "      <th>steps_max</th>\n",
       "    </tr>\n",
       "  </thead>\n",
       "  <tbody>\n",
       "    <tr>\n",
       "      <th>0</th>\n",
       "      <td>50</td>\n",
       "      <td>-103.000</td>\n",
       "      <td>-103.0</td>\n",
       "      <td>0.000000</td>\n",
       "      <td>-103.0</td>\n",
       "      <td>-103.0</td>\n",
       "      <td>5.000</td>\n",
       "      <td>5.0</td>\n",
       "      <td>0.000000</td>\n",
       "      <td>5</td>\n",
       "      <td>5</td>\n",
       "    </tr>\n",
       "    <tr>\n",
       "      <th>1</th>\n",
       "      <td>100</td>\n",
       "      <td>-102.000</td>\n",
       "      <td>-102.0</td>\n",
       "      <td>0.000000</td>\n",
       "      <td>-102.0</td>\n",
       "      <td>-102.0</td>\n",
       "      <td>4.000</td>\n",
       "      <td>4.0</td>\n",
       "      <td>0.000000</td>\n",
       "      <td>4</td>\n",
       "      <td>4</td>\n",
       "    </tr>\n",
       "    <tr>\n",
       "      <th>2</th>\n",
       "      <td>150</td>\n",
       "      <td>-103.304</td>\n",
       "      <td>-103.0</td>\n",
       "      <td>0.459983</td>\n",
       "      <td>-104.0</td>\n",
       "      <td>-103.0</td>\n",
       "      <td>5.304</td>\n",
       "      <td>5.0</td>\n",
       "      <td>0.459983</td>\n",
       "      <td>5</td>\n",
       "      <td>6</td>\n",
       "    </tr>\n",
       "    <tr>\n",
       "      <th>3</th>\n",
       "      <td>200</td>\n",
       "      <td>-104.000</td>\n",
       "      <td>-104.0</td>\n",
       "      <td>0.000000</td>\n",
       "      <td>-104.0</td>\n",
       "      <td>-104.0</td>\n",
       "      <td>6.000</td>\n",
       "      <td>6.0</td>\n",
       "      <td>0.000000</td>\n",
       "      <td>6</td>\n",
       "      <td>6</td>\n",
       "    </tr>\n",
       "    <tr>\n",
       "      <th>4</th>\n",
       "      <td>250</td>\n",
       "      <td>-102.752</td>\n",
       "      <td>-103.0</td>\n",
       "      <td>0.431852</td>\n",
       "      <td>-103.0</td>\n",
       "      <td>-102.0</td>\n",
       "      <td>4.752</td>\n",
       "      <td>5.0</td>\n",
       "      <td>0.431852</td>\n",
       "      <td>4</td>\n",
       "      <td>5</td>\n",
       "    </tr>\n",
       "    <tr>\n",
       "      <th>5</th>\n",
       "      <td>300</td>\n",
       "      <td>-105.000</td>\n",
       "      <td>-105.0</td>\n",
       "      <td>0.000000</td>\n",
       "      <td>-105.0</td>\n",
       "      <td>-105.0</td>\n",
       "      <td>7.000</td>\n",
       "      <td>7.0</td>\n",
       "      <td>0.000000</td>\n",
       "      <td>7</td>\n",
       "      <td>7</td>\n",
       "    </tr>\n",
       "    <tr>\n",
       "      <th>6</th>\n",
       "      <td>350</td>\n",
       "      <td>-103.000</td>\n",
       "      <td>-103.0</td>\n",
       "      <td>0.000000</td>\n",
       "      <td>-103.0</td>\n",
       "      <td>-103.0</td>\n",
       "      <td>5.000</td>\n",
       "      <td>5.0</td>\n",
       "      <td>0.000000</td>\n",
       "      <td>5</td>\n",
       "      <td>5</td>\n",
       "    </tr>\n",
       "    <tr>\n",
       "      <th>7</th>\n",
       "      <td>400</td>\n",
       "      <td>-103.000</td>\n",
       "      <td>-103.0</td>\n",
       "      <td>0.000000</td>\n",
       "      <td>-103.0</td>\n",
       "      <td>-103.0</td>\n",
       "      <td>5.000</td>\n",
       "      <td>5.0</td>\n",
       "      <td>0.000000</td>\n",
       "      <td>5</td>\n",
       "      <td>5</td>\n",
       "    </tr>\n",
       "    <tr>\n",
       "      <th>8</th>\n",
       "      <td>450</td>\n",
       "      <td>-103.760</td>\n",
       "      <td>-104.0</td>\n",
       "      <td>0.427083</td>\n",
       "      <td>-104.0</td>\n",
       "      <td>-103.0</td>\n",
       "      <td>5.760</td>\n",
       "      <td>6.0</td>\n",
       "      <td>0.427083</td>\n",
       "      <td>5</td>\n",
       "      <td>6</td>\n",
       "    </tr>\n",
       "    <tr>\n",
       "      <th>9</th>\n",
       "      <td>500</td>\n",
       "      <td>-100.000</td>\n",
       "      <td>-100.0</td>\n",
       "      <td>0.000000</td>\n",
       "      <td>-100.0</td>\n",
       "      <td>-100.0</td>\n",
       "      <td>101.000</td>\n",
       "      <td>101.0</td>\n",
       "      <td>0.000000</td>\n",
       "      <td>101</td>\n",
       "      <td>101</td>\n",
       "    </tr>\n",
       "    <tr>\n",
       "      <th>10</th>\n",
       "      <td>550</td>\n",
       "      <td>-103.000</td>\n",
       "      <td>-103.0</td>\n",
       "      <td>0.000000</td>\n",
       "      <td>-103.0</td>\n",
       "      <td>-103.0</td>\n",
       "      <td>5.000</td>\n",
       "      <td>5.0</td>\n",
       "      <td>0.000000</td>\n",
       "      <td>5</td>\n",
       "      <td>5</td>\n",
       "    </tr>\n",
       "    <tr>\n",
       "      <th>11</th>\n",
       "      <td>600</td>\n",
       "      <td>-103.000</td>\n",
       "      <td>-103.0</td>\n",
       "      <td>0.000000</td>\n",
       "      <td>-103.0</td>\n",
       "      <td>-103.0</td>\n",
       "      <td>5.000</td>\n",
       "      <td>5.0</td>\n",
       "      <td>0.000000</td>\n",
       "      <td>5</td>\n",
       "      <td>5</td>\n",
       "    </tr>\n",
       "    <tr>\n",
       "      <th>12</th>\n",
       "      <td>650</td>\n",
       "      <td>-103.000</td>\n",
       "      <td>-103.0</td>\n",
       "      <td>0.000000</td>\n",
       "      <td>-103.0</td>\n",
       "      <td>-103.0</td>\n",
       "      <td>5.000</td>\n",
       "      <td>5.0</td>\n",
       "      <td>0.000000</td>\n",
       "      <td>5</td>\n",
       "      <td>5</td>\n",
       "    </tr>\n",
       "    <tr>\n",
       "      <th>13</th>\n",
       "      <td>700</td>\n",
       "      <td>-104.000</td>\n",
       "      <td>-104.0</td>\n",
       "      <td>0.000000</td>\n",
       "      <td>-104.0</td>\n",
       "      <td>-104.0</td>\n",
       "      <td>6.000</td>\n",
       "      <td>6.0</td>\n",
       "      <td>0.000000</td>\n",
       "      <td>6</td>\n",
       "      <td>6</td>\n",
       "    </tr>\n",
       "    <tr>\n",
       "      <th>14</th>\n",
       "      <td>750</td>\n",
       "      <td>-106.000</td>\n",
       "      <td>-106.0</td>\n",
       "      <td>0.000000</td>\n",
       "      <td>-106.0</td>\n",
       "      <td>-106.0</td>\n",
       "      <td>8.000</td>\n",
       "      <td>8.0</td>\n",
       "      <td>0.000000</td>\n",
       "      <td>8</td>\n",
       "      <td>8</td>\n",
       "    </tr>\n",
       "    <tr>\n",
       "      <th>15</th>\n",
       "      <td>800</td>\n",
       "      <td>-103.756</td>\n",
       "      <td>-104.0</td>\n",
       "      <td>0.429493</td>\n",
       "      <td>-104.0</td>\n",
       "      <td>-103.0</td>\n",
       "      <td>5.756</td>\n",
       "      <td>6.0</td>\n",
       "      <td>0.429493</td>\n",
       "      <td>5</td>\n",
       "      <td>6</td>\n",
       "    </tr>\n",
       "    <tr>\n",
       "      <th>16</th>\n",
       "      <td>850</td>\n",
       "      <td>-103.000</td>\n",
       "      <td>-103.0</td>\n",
       "      <td>0.000000</td>\n",
       "      <td>-103.0</td>\n",
       "      <td>-103.0</td>\n",
       "      <td>5.000</td>\n",
       "      <td>5.0</td>\n",
       "      <td>0.000000</td>\n",
       "      <td>5</td>\n",
       "      <td>5</td>\n",
       "    </tr>\n",
       "    <tr>\n",
       "      <th>17</th>\n",
       "      <td>900</td>\n",
       "      <td>-104.448</td>\n",
       "      <td>-104.0</td>\n",
       "      <td>0.975344</td>\n",
       "      <td>-109.0</td>\n",
       "      <td>-104.0</td>\n",
       "      <td>6.448</td>\n",
       "      <td>6.0</td>\n",
       "      <td>0.975344</td>\n",
       "      <td>6</td>\n",
       "      <td>11</td>\n",
       "    </tr>\n",
       "    <tr>\n",
       "      <th>18</th>\n",
       "      <td>950</td>\n",
       "      <td>-107.208</td>\n",
       "      <td>-107.0</td>\n",
       "      <td>0.860660</td>\n",
       "      <td>-110.0</td>\n",
       "      <td>-105.0</td>\n",
       "      <td>9.208</td>\n",
       "      <td>9.0</td>\n",
       "      <td>0.860660</td>\n",
       "      <td>7</td>\n",
       "      <td>12</td>\n",
       "    </tr>\n",
       "    <tr>\n",
       "      <th>19</th>\n",
       "      <td>1000</td>\n",
       "      <td>-105.772</td>\n",
       "      <td>-106.0</td>\n",
       "      <td>0.764209</td>\n",
       "      <td>-107.0</td>\n",
       "      <td>-104.0</td>\n",
       "      <td>7.772</td>\n",
       "      <td>8.0</td>\n",
       "      <td>0.764209</td>\n",
       "      <td>6</td>\n",
       "      <td>9</td>\n",
       "    </tr>\n",
       "    <tr>\n",
       "      <th>20</th>\n",
       "      <td>1050</td>\n",
       "      <td>-104.000</td>\n",
       "      <td>-104.0</td>\n",
       "      <td>0.000000</td>\n",
       "      <td>-104.0</td>\n",
       "      <td>-104.0</td>\n",
       "      <td>6.000</td>\n",
       "      <td>6.0</td>\n",
       "      <td>0.000000</td>\n",
       "      <td>6</td>\n",
       "      <td>6</td>\n",
       "    </tr>\n",
       "    <tr>\n",
       "      <th>21</th>\n",
       "      <td>1100</td>\n",
       "      <td>-104.000</td>\n",
       "      <td>-104.0</td>\n",
       "      <td>0.000000</td>\n",
       "      <td>-104.0</td>\n",
       "      <td>-104.0</td>\n",
       "      <td>6.000</td>\n",
       "      <td>6.0</td>\n",
       "      <td>0.000000</td>\n",
       "      <td>6</td>\n",
       "      <td>6</td>\n",
       "    </tr>\n",
       "    <tr>\n",
       "      <th>22</th>\n",
       "      <td>1150</td>\n",
       "      <td>-104.960</td>\n",
       "      <td>-105.0</td>\n",
       "      <td>0.195959</td>\n",
       "      <td>-105.0</td>\n",
       "      <td>-104.0</td>\n",
       "      <td>6.960</td>\n",
       "      <td>7.0</td>\n",
       "      <td>0.195959</td>\n",
       "      <td>6</td>\n",
       "      <td>7</td>\n",
       "    </tr>\n",
       "    <tr>\n",
       "      <th>23</th>\n",
       "      <td>1200</td>\n",
       "      <td>-105.000</td>\n",
       "      <td>-105.0</td>\n",
       "      <td>0.000000</td>\n",
       "      <td>-105.0</td>\n",
       "      <td>-105.0</td>\n",
       "      <td>7.000</td>\n",
       "      <td>7.0</td>\n",
       "      <td>0.000000</td>\n",
       "      <td>7</td>\n",
       "      <td>7</td>\n",
       "    </tr>\n",
       "    <tr>\n",
       "      <th>24</th>\n",
       "      <td>1250</td>\n",
       "      <td>-107.000</td>\n",
       "      <td>-107.0</td>\n",
       "      <td>0.000000</td>\n",
       "      <td>-107.0</td>\n",
       "      <td>-107.0</td>\n",
       "      <td>9.000</td>\n",
       "      <td>9.0</td>\n",
       "      <td>0.000000</td>\n",
       "      <td>9</td>\n",
       "      <td>9</td>\n",
       "    </tr>\n",
       "    <tr>\n",
       "      <th>25</th>\n",
       "      <td>1300</td>\n",
       "      <td>-105.000</td>\n",
       "      <td>-105.0</td>\n",
       "      <td>0.000000</td>\n",
       "      <td>-105.0</td>\n",
       "      <td>-105.0</td>\n",
       "      <td>7.000</td>\n",
       "      <td>7.0</td>\n",
       "      <td>0.000000</td>\n",
       "      <td>7</td>\n",
       "      <td>7</td>\n",
       "    </tr>\n",
       "    <tr>\n",
       "      <th>26</th>\n",
       "      <td>1350</td>\n",
       "      <td>-104.168</td>\n",
       "      <td>-104.0</td>\n",
       "      <td>0.373866</td>\n",
       "      <td>-105.0</td>\n",
       "      <td>-104.0</td>\n",
       "      <td>6.168</td>\n",
       "      <td>6.0</td>\n",
       "      <td>0.373866</td>\n",
       "      <td>6</td>\n",
       "      <td>7</td>\n",
       "    </tr>\n",
       "    <tr>\n",
       "      <th>27</th>\n",
       "      <td>1400</td>\n",
       "      <td>-106.740</td>\n",
       "      <td>-107.0</td>\n",
       "      <td>0.438634</td>\n",
       "      <td>-107.0</td>\n",
       "      <td>-106.0</td>\n",
       "      <td>8.740</td>\n",
       "      <td>9.0</td>\n",
       "      <td>0.438634</td>\n",
       "      <td>8</td>\n",
       "      <td>9</td>\n",
       "    </tr>\n",
       "    <tr>\n",
       "      <th>28</th>\n",
       "      <td>1450</td>\n",
       "      <td>-105.000</td>\n",
       "      <td>-105.0</td>\n",
       "      <td>0.000000</td>\n",
       "      <td>-105.0</td>\n",
       "      <td>-105.0</td>\n",
       "      <td>7.000</td>\n",
       "      <td>7.0</td>\n",
       "      <td>0.000000</td>\n",
       "      <td>7</td>\n",
       "      <td>7</td>\n",
       "    </tr>\n",
       "    <tr>\n",
       "      <th>29</th>\n",
       "      <td>1500</td>\n",
       "      <td>-105.000</td>\n",
       "      <td>-105.0</td>\n",
       "      <td>0.000000</td>\n",
       "      <td>-105.0</td>\n",
       "      <td>-105.0</td>\n",
       "      <td>7.000</td>\n",
       "      <td>7.0</td>\n",
       "      <td>0.000000</td>\n",
       "      <td>7</td>\n",
       "      <td>7</td>\n",
       "    </tr>\n",
       "    <tr>\n",
       "      <th>...</th>\n",
       "      <td>...</td>\n",
       "      <td>...</td>\n",
       "      <td>...</td>\n",
       "      <td>...</td>\n",
       "      <td>...</td>\n",
       "      <td>...</td>\n",
       "      <td>...</td>\n",
       "      <td>...</td>\n",
       "      <td>...</td>\n",
       "      <td>...</td>\n",
       "      <td>...</td>\n",
       "    </tr>\n",
       "    <tr>\n",
       "      <th>70</th>\n",
       "      <td>3550</td>\n",
       "      <td>-109.248</td>\n",
       "      <td>-108.0</td>\n",
       "      <td>2.435261</td>\n",
       "      <td>-114.0</td>\n",
       "      <td>-108.0</td>\n",
       "      <td>11.248</td>\n",
       "      <td>10.0</td>\n",
       "      <td>2.435261</td>\n",
       "      <td>10</td>\n",
       "      <td>16</td>\n",
       "    </tr>\n",
       "    <tr>\n",
       "      <th>71</th>\n",
       "      <td>3600</td>\n",
       "      <td>-102.404</td>\n",
       "      <td>-100.0</td>\n",
       "      <td>4.297067</td>\n",
       "      <td>-113.0</td>\n",
       "      <td>-100.0</td>\n",
       "      <td>79.644</td>\n",
       "      <td>101.0</td>\n",
       "      <td>38.005437</td>\n",
       "      <td>11</td>\n",
       "      <td>101</td>\n",
       "    </tr>\n",
       "    <tr>\n",
       "      <th>72</th>\n",
       "      <td>3650</td>\n",
       "      <td>-100.000</td>\n",
       "      <td>-100.0</td>\n",
       "      <td>0.000000</td>\n",
       "      <td>-100.0</td>\n",
       "      <td>-100.0</td>\n",
       "      <td>101.000</td>\n",
       "      <td>101.0</td>\n",
       "      <td>0.000000</td>\n",
       "      <td>101</td>\n",
       "      <td>101</td>\n",
       "    </tr>\n",
       "    <tr>\n",
       "      <th>73</th>\n",
       "      <td>3700</td>\n",
       "      <td>-78.492</td>\n",
       "      <td>-109.0</td>\n",
       "      <td>70.292033</td>\n",
       "      <td>-116.0</td>\n",
       "      <td>87.0</td>\n",
       "      <td>16.048</td>\n",
       "      <td>11.0</td>\n",
       "      <td>18.391892</td>\n",
       "      <td>11</td>\n",
       "      <td>101</td>\n",
       "    </tr>\n",
       "    <tr>\n",
       "      <th>74</th>\n",
       "      <td>3750</td>\n",
       "      <td>-93.008</td>\n",
       "      <td>-124.0</td>\n",
       "      <td>67.144858</td>\n",
       "      <td>-129.0</td>\n",
       "      <td>73.0</td>\n",
       "      <td>23.008</td>\n",
       "      <td>26.0</td>\n",
       "      <td>7.320105</td>\n",
       "      <td>9</td>\n",
       "      <td>31</td>\n",
       "    </tr>\n",
       "    <tr>\n",
       "      <th>75</th>\n",
       "      <td>3800</td>\n",
       "      <td>41.308</td>\n",
       "      <td>87.0</td>\n",
       "      <td>83.137363</td>\n",
       "      <td>-112.0</td>\n",
       "      <td>88.0</td>\n",
       "      <td>13.492</td>\n",
       "      <td>14.0</td>\n",
       "      <td>1.925081</td>\n",
       "      <td>10</td>\n",
       "      <td>16</td>\n",
       "    </tr>\n",
       "    <tr>\n",
       "      <th>76</th>\n",
       "      <td>3850</td>\n",
       "      <td>76.848</td>\n",
       "      <td>90.0</td>\n",
       "      <td>48.877652</td>\n",
       "      <td>-111.0</td>\n",
       "      <td>90.0</td>\n",
       "      <td>12.352</td>\n",
       "      <td>12.0</td>\n",
       "      <td>0.525448</td>\n",
       "      <td>12</td>\n",
       "      <td>14</td>\n",
       "    </tr>\n",
       "    <tr>\n",
       "      <th>77</th>\n",
       "      <td>3900</td>\n",
       "      <td>82.380</td>\n",
       "      <td>90.0</td>\n",
       "      <td>37.245397</td>\n",
       "      <td>-111.0</td>\n",
       "      <td>90.0</td>\n",
       "      <td>12.420</td>\n",
       "      <td>12.0</td>\n",
       "      <td>0.554617</td>\n",
       "      <td>12</td>\n",
       "      <td>14</td>\n",
       "    </tr>\n",
       "    <tr>\n",
       "      <th>78</th>\n",
       "      <td>3950</td>\n",
       "      <td>79.992</td>\n",
       "      <td>90.0</td>\n",
       "      <td>42.665114</td>\n",
       "      <td>-110.0</td>\n",
       "      <td>90.0</td>\n",
       "      <td>12.408</td>\n",
       "      <td>12.0</td>\n",
       "      <td>0.552753</td>\n",
       "      <td>12</td>\n",
       "      <td>14</td>\n",
       "    </tr>\n",
       "    <tr>\n",
       "      <th>79</th>\n",
       "      <td>4000</td>\n",
       "      <td>84.780</td>\n",
       "      <td>90.0</td>\n",
       "      <td>30.575081</td>\n",
       "      <td>-111.0</td>\n",
       "      <td>90.0</td>\n",
       "      <td>12.420</td>\n",
       "      <td>12.0</td>\n",
       "      <td>0.554617</td>\n",
       "      <td>12</td>\n",
       "      <td>14</td>\n",
       "    </tr>\n",
       "    <tr>\n",
       "      <th>80</th>\n",
       "      <td>4050</td>\n",
       "      <td>82.440</td>\n",
       "      <td>90.0</td>\n",
       "      <td>37.192343</td>\n",
       "      <td>-110.0</td>\n",
       "      <td>90.0</td>\n",
       "      <td>12.360</td>\n",
       "      <td>12.0</td>\n",
       "      <td>0.542586</td>\n",
       "      <td>12</td>\n",
       "      <td>14</td>\n",
       "    </tr>\n",
       "    <tr>\n",
       "      <th>81</th>\n",
       "      <td>4100</td>\n",
       "      <td>80.832</td>\n",
       "      <td>90.0</td>\n",
       "      <td>40.982481</td>\n",
       "      <td>-111.0</td>\n",
       "      <td>90.0</td>\n",
       "      <td>12.368</td>\n",
       "      <td>12.0</td>\n",
       "      <td>0.529694</td>\n",
       "      <td>12</td>\n",
       "      <td>14</td>\n",
       "    </tr>\n",
       "    <tr>\n",
       "      <th>82</th>\n",
       "      <td>4150</td>\n",
       "      <td>79.252</td>\n",
       "      <td>90.0</td>\n",
       "      <td>44.380947</td>\n",
       "      <td>-111.0</td>\n",
       "      <td>90.0</td>\n",
       "      <td>12.348</td>\n",
       "      <td>12.0</td>\n",
       "      <td>0.516620</td>\n",
       "      <td>12</td>\n",
       "      <td>14</td>\n",
       "    </tr>\n",
       "    <tr>\n",
       "      <th>83</th>\n",
       "      <td>4200</td>\n",
       "      <td>80.800</td>\n",
       "      <td>90.0</td>\n",
       "      <td>40.956855</td>\n",
       "      <td>-111.0</td>\n",
       "      <td>90.0</td>\n",
       "      <td>12.400</td>\n",
       "      <td>12.0</td>\n",
       "      <td>0.586515</td>\n",
       "      <td>12</td>\n",
       "      <td>14</td>\n",
       "    </tr>\n",
       "    <tr>\n",
       "      <th>84</th>\n",
       "      <td>4250</td>\n",
       "      <td>83.188</td>\n",
       "      <td>90.0</td>\n",
       "      <td>35.220571</td>\n",
       "      <td>-111.0</td>\n",
       "      <td>90.0</td>\n",
       "      <td>12.412</td>\n",
       "      <td>12.0</td>\n",
       "      <td>0.567676</td>\n",
       "      <td>12</td>\n",
       "      <td>14</td>\n",
       "    </tr>\n",
       "    <tr>\n",
       "      <th>85</th>\n",
       "      <td>4300</td>\n",
       "      <td>84.064</td>\n",
       "      <td>90.0</td>\n",
       "      <td>33.063029</td>\n",
       "      <td>-111.0</td>\n",
       "      <td>90.0</td>\n",
       "      <td>12.336</td>\n",
       "      <td>12.0</td>\n",
       "      <td>0.535821</td>\n",
       "      <td>12</td>\n",
       "      <td>14</td>\n",
       "    </tr>\n",
       "    <tr>\n",
       "      <th>86</th>\n",
       "      <td>4350</td>\n",
       "      <td>81.644</td>\n",
       "      <td>90.0</td>\n",
       "      <td>39.163009</td>\n",
       "      <td>-111.0</td>\n",
       "      <td>90.0</td>\n",
       "      <td>12.356</td>\n",
       "      <td>12.0</td>\n",
       "      <td>0.487098</td>\n",
       "      <td>12</td>\n",
       "      <td>14</td>\n",
       "    </tr>\n",
       "    <tr>\n",
       "      <th>87</th>\n",
       "      <td>4400</td>\n",
       "      <td>77.640</td>\n",
       "      <td>90.0</td>\n",
       "      <td>47.460198</td>\n",
       "      <td>-111.0</td>\n",
       "      <td>90.0</td>\n",
       "      <td>12.360</td>\n",
       "      <td>12.0</td>\n",
       "      <td>0.557136</td>\n",
       "      <td>12</td>\n",
       "      <td>14</td>\n",
       "    </tr>\n",
       "    <tr>\n",
       "      <th>88</th>\n",
       "      <td>4450</td>\n",
       "      <td>85.596</td>\n",
       "      <td>90.0</td>\n",
       "      <td>28.033280</td>\n",
       "      <td>-111.0</td>\n",
       "      <td>90.0</td>\n",
       "      <td>12.404</td>\n",
       "      <td>12.0</td>\n",
       "      <td>0.544779</td>\n",
       "      <td>12</td>\n",
       "      <td>14</td>\n",
       "    </tr>\n",
       "    <tr>\n",
       "      <th>89</th>\n",
       "      <td>4500</td>\n",
       "      <td>81.616</td>\n",
       "      <td>90.0</td>\n",
       "      <td>39.137457</td>\n",
       "      <td>-111.0</td>\n",
       "      <td>90.0</td>\n",
       "      <td>12.384</td>\n",
       "      <td>12.0</td>\n",
       "      <td>0.533427</td>\n",
       "      <td>12</td>\n",
       "      <td>14</td>\n",
       "    </tr>\n",
       "    <tr>\n",
       "      <th>90</th>\n",
       "      <td>4550</td>\n",
       "      <td>76.040</td>\n",
       "      <td>90.0</td>\n",
       "      <td>50.302191</td>\n",
       "      <td>-111.0</td>\n",
       "      <td>90.0</td>\n",
       "      <td>12.360</td>\n",
       "      <td>12.0</td>\n",
       "      <td>0.512250</td>\n",
       "      <td>12</td>\n",
       "      <td>14</td>\n",
       "    </tr>\n",
       "    <tr>\n",
       "      <th>91</th>\n",
       "      <td>4600</td>\n",
       "      <td>78.480</td>\n",
       "      <td>90.0</td>\n",
       "      <td>45.961392</td>\n",
       "      <td>-111.0</td>\n",
       "      <td>90.0</td>\n",
       "      <td>12.320</td>\n",
       "      <td>12.0</td>\n",
       "      <td>0.507543</td>\n",
       "      <td>12</td>\n",
       "      <td>14</td>\n",
       "    </tr>\n",
       "    <tr>\n",
       "      <th>92</th>\n",
       "      <td>4650</td>\n",
       "      <td>81.684</td>\n",
       "      <td>90.0</td>\n",
       "      <td>39.171726</td>\n",
       "      <td>-111.0</td>\n",
       "      <td>90.0</td>\n",
       "      <td>12.316</td>\n",
       "      <td>12.0</td>\n",
       "      <td>0.529286</td>\n",
       "      <td>12</td>\n",
       "      <td>14</td>\n",
       "    </tr>\n",
       "    <tr>\n",
       "      <th>93</th>\n",
       "      <td>4700</td>\n",
       "      <td>82.416</td>\n",
       "      <td>90.0</td>\n",
       "      <td>37.230780</td>\n",
       "      <td>-111.0</td>\n",
       "      <td>90.0</td>\n",
       "      <td>12.384</td>\n",
       "      <td>12.0</td>\n",
       "      <td>0.548219</td>\n",
       "      <td>12</td>\n",
       "      <td>14</td>\n",
       "    </tr>\n",
       "    <tr>\n",
       "      <th>94</th>\n",
       "      <td>4750</td>\n",
       "      <td>82.496</td>\n",
       "      <td>90.0</td>\n",
       "      <td>37.310079</td>\n",
       "      <td>-111.0</td>\n",
       "      <td>90.0</td>\n",
       "      <td>12.304</td>\n",
       "      <td>12.0</td>\n",
       "      <td>0.509494</td>\n",
       "      <td>12</td>\n",
       "      <td>14</td>\n",
       "    </tr>\n",
       "    <tr>\n",
       "      <th>95</th>\n",
       "      <td>4800</td>\n",
       "      <td>81.560</td>\n",
       "      <td>90.0</td>\n",
       "      <td>39.166904</td>\n",
       "      <td>-111.0</td>\n",
       "      <td>90.0</td>\n",
       "      <td>12.440</td>\n",
       "      <td>12.0</td>\n",
       "      <td>0.535164</td>\n",
       "      <td>12</td>\n",
       "      <td>14</td>\n",
       "    </tr>\n",
       "    <tr>\n",
       "      <th>96</th>\n",
       "      <td>4850</td>\n",
       "      <td>79.184</td>\n",
       "      <td>90.0</td>\n",
       "      <td>44.347606</td>\n",
       "      <td>-111.0</td>\n",
       "      <td>90.0</td>\n",
       "      <td>12.416</td>\n",
       "      <td>12.0</td>\n",
       "      <td>0.568282</td>\n",
       "      <td>12</td>\n",
       "      <td>14</td>\n",
       "    </tr>\n",
       "    <tr>\n",
       "      <th>97</th>\n",
       "      <td>4900</td>\n",
       "      <td>75.976</td>\n",
       "      <td>90.0</td>\n",
       "      <td>50.301485</td>\n",
       "      <td>-111.0</td>\n",
       "      <td>90.0</td>\n",
       "      <td>12.424</td>\n",
       "      <td>12.0</td>\n",
       "      <td>0.576389</td>\n",
       "      <td>12</td>\n",
       "      <td>14</td>\n",
       "    </tr>\n",
       "    <tr>\n",
       "      <th>98</th>\n",
       "      <td>4950</td>\n",
       "      <td>78.392</td>\n",
       "      <td>90.0</td>\n",
       "      <td>45.905886</td>\n",
       "      <td>-111.0</td>\n",
       "      <td>90.0</td>\n",
       "      <td>12.408</td>\n",
       "      <td>12.0</td>\n",
       "      <td>0.574052</td>\n",
       "      <td>12</td>\n",
       "      <td>14</td>\n",
       "    </tr>\n",
       "    <tr>\n",
       "      <th>99</th>\n",
       "      <td>5000</td>\n",
       "      <td>79.212</td>\n",
       "      <td>90.0</td>\n",
       "      <td>44.371782</td>\n",
       "      <td>-111.0</td>\n",
       "      <td>90.0</td>\n",
       "      <td>12.388</td>\n",
       "      <td>12.0</td>\n",
       "      <td>0.534281</td>\n",
       "      <td>12</td>\n",
       "      <td>14</td>\n",
       "    </tr>\n",
       "  </tbody>\n",
       "</table>\n",
       "<p>100 rows × 11 columns</p>\n",
       "</div>"
      ],
      "text/plain": [
       "    iteration  reward_mean  reward_median  reward_std  reward_min  reward_max  \\\n",
       "0          50     -103.000         -103.0    0.000000      -103.0      -103.0   \n",
       "1         100     -102.000         -102.0    0.000000      -102.0      -102.0   \n",
       "2         150     -103.304         -103.0    0.459983      -104.0      -103.0   \n",
       "3         200     -104.000         -104.0    0.000000      -104.0      -104.0   \n",
       "4         250     -102.752         -103.0    0.431852      -103.0      -102.0   \n",
       "5         300     -105.000         -105.0    0.000000      -105.0      -105.0   \n",
       "6         350     -103.000         -103.0    0.000000      -103.0      -103.0   \n",
       "7         400     -103.000         -103.0    0.000000      -103.0      -103.0   \n",
       "8         450     -103.760         -104.0    0.427083      -104.0      -103.0   \n",
       "9         500     -100.000         -100.0    0.000000      -100.0      -100.0   \n",
       "10        550     -103.000         -103.0    0.000000      -103.0      -103.0   \n",
       "11        600     -103.000         -103.0    0.000000      -103.0      -103.0   \n",
       "12        650     -103.000         -103.0    0.000000      -103.0      -103.0   \n",
       "13        700     -104.000         -104.0    0.000000      -104.0      -104.0   \n",
       "14        750     -106.000         -106.0    0.000000      -106.0      -106.0   \n",
       "15        800     -103.756         -104.0    0.429493      -104.0      -103.0   \n",
       "16        850     -103.000         -103.0    0.000000      -103.0      -103.0   \n",
       "17        900     -104.448         -104.0    0.975344      -109.0      -104.0   \n",
       "18        950     -107.208         -107.0    0.860660      -110.0      -105.0   \n",
       "19       1000     -105.772         -106.0    0.764209      -107.0      -104.0   \n",
       "20       1050     -104.000         -104.0    0.000000      -104.0      -104.0   \n",
       "21       1100     -104.000         -104.0    0.000000      -104.0      -104.0   \n",
       "22       1150     -104.960         -105.0    0.195959      -105.0      -104.0   \n",
       "23       1200     -105.000         -105.0    0.000000      -105.0      -105.0   \n",
       "24       1250     -107.000         -107.0    0.000000      -107.0      -107.0   \n",
       "25       1300     -105.000         -105.0    0.000000      -105.0      -105.0   \n",
       "26       1350     -104.168         -104.0    0.373866      -105.0      -104.0   \n",
       "27       1400     -106.740         -107.0    0.438634      -107.0      -106.0   \n",
       "28       1450     -105.000         -105.0    0.000000      -105.0      -105.0   \n",
       "29       1500     -105.000         -105.0    0.000000      -105.0      -105.0   \n",
       "..        ...          ...            ...         ...         ...         ...   \n",
       "70       3550     -109.248         -108.0    2.435261      -114.0      -108.0   \n",
       "71       3600     -102.404         -100.0    4.297067      -113.0      -100.0   \n",
       "72       3650     -100.000         -100.0    0.000000      -100.0      -100.0   \n",
       "73       3700      -78.492         -109.0   70.292033      -116.0        87.0   \n",
       "74       3750      -93.008         -124.0   67.144858      -129.0        73.0   \n",
       "75       3800       41.308           87.0   83.137363      -112.0        88.0   \n",
       "76       3850       76.848           90.0   48.877652      -111.0        90.0   \n",
       "77       3900       82.380           90.0   37.245397      -111.0        90.0   \n",
       "78       3950       79.992           90.0   42.665114      -110.0        90.0   \n",
       "79       4000       84.780           90.0   30.575081      -111.0        90.0   \n",
       "80       4050       82.440           90.0   37.192343      -110.0        90.0   \n",
       "81       4100       80.832           90.0   40.982481      -111.0        90.0   \n",
       "82       4150       79.252           90.0   44.380947      -111.0        90.0   \n",
       "83       4200       80.800           90.0   40.956855      -111.0        90.0   \n",
       "84       4250       83.188           90.0   35.220571      -111.0        90.0   \n",
       "85       4300       84.064           90.0   33.063029      -111.0        90.0   \n",
       "86       4350       81.644           90.0   39.163009      -111.0        90.0   \n",
       "87       4400       77.640           90.0   47.460198      -111.0        90.0   \n",
       "88       4450       85.596           90.0   28.033280      -111.0        90.0   \n",
       "89       4500       81.616           90.0   39.137457      -111.0        90.0   \n",
       "90       4550       76.040           90.0   50.302191      -111.0        90.0   \n",
       "91       4600       78.480           90.0   45.961392      -111.0        90.0   \n",
       "92       4650       81.684           90.0   39.171726      -111.0        90.0   \n",
       "93       4700       82.416           90.0   37.230780      -111.0        90.0   \n",
       "94       4750       82.496           90.0   37.310079      -111.0        90.0   \n",
       "95       4800       81.560           90.0   39.166904      -111.0        90.0   \n",
       "96       4850       79.184           90.0   44.347606      -111.0        90.0   \n",
       "97       4900       75.976           90.0   50.301485      -111.0        90.0   \n",
       "98       4950       78.392           90.0   45.905886      -111.0        90.0   \n",
       "99       5000       79.212           90.0   44.371782      -111.0        90.0   \n",
       "\n",
       "    steps_mean  steps_median  steps_std  steps_min  steps_max  \n",
       "0        5.000           5.0   0.000000          5          5  \n",
       "1        4.000           4.0   0.000000          4          4  \n",
       "2        5.304           5.0   0.459983          5          6  \n",
       "3        6.000           6.0   0.000000          6          6  \n",
       "4        4.752           5.0   0.431852          4          5  \n",
       "5        7.000           7.0   0.000000          7          7  \n",
       "6        5.000           5.0   0.000000          5          5  \n",
       "7        5.000           5.0   0.000000          5          5  \n",
       "8        5.760           6.0   0.427083          5          6  \n",
       "9      101.000         101.0   0.000000        101        101  \n",
       "10       5.000           5.0   0.000000          5          5  \n",
       "11       5.000           5.0   0.000000          5          5  \n",
       "12       5.000           5.0   0.000000          5          5  \n",
       "13       6.000           6.0   0.000000          6          6  \n",
       "14       8.000           8.0   0.000000          8          8  \n",
       "15       5.756           6.0   0.429493          5          6  \n",
       "16       5.000           5.0   0.000000          5          5  \n",
       "17       6.448           6.0   0.975344          6         11  \n",
       "18       9.208           9.0   0.860660          7         12  \n",
       "19       7.772           8.0   0.764209          6          9  \n",
       "20       6.000           6.0   0.000000          6          6  \n",
       "21       6.000           6.0   0.000000          6          6  \n",
       "22       6.960           7.0   0.195959          6          7  \n",
       "23       7.000           7.0   0.000000          7          7  \n",
       "24       9.000           9.0   0.000000          9          9  \n",
       "25       7.000           7.0   0.000000          7          7  \n",
       "26       6.168           6.0   0.373866          6          7  \n",
       "27       8.740           9.0   0.438634          8          9  \n",
       "28       7.000           7.0   0.000000          7          7  \n",
       "29       7.000           7.0   0.000000          7          7  \n",
       "..         ...           ...        ...        ...        ...  \n",
       "70      11.248          10.0   2.435261         10         16  \n",
       "71      79.644         101.0  38.005437         11        101  \n",
       "72     101.000         101.0   0.000000        101        101  \n",
       "73      16.048          11.0  18.391892         11        101  \n",
       "74      23.008          26.0   7.320105          9         31  \n",
       "75      13.492          14.0   1.925081         10         16  \n",
       "76      12.352          12.0   0.525448         12         14  \n",
       "77      12.420          12.0   0.554617         12         14  \n",
       "78      12.408          12.0   0.552753         12         14  \n",
       "79      12.420          12.0   0.554617         12         14  \n",
       "80      12.360          12.0   0.542586         12         14  \n",
       "81      12.368          12.0   0.529694         12         14  \n",
       "82      12.348          12.0   0.516620         12         14  \n",
       "83      12.400          12.0   0.586515         12         14  \n",
       "84      12.412          12.0   0.567676         12         14  \n",
       "85      12.336          12.0   0.535821         12         14  \n",
       "86      12.356          12.0   0.487098         12         14  \n",
       "87      12.360          12.0   0.557136         12         14  \n",
       "88      12.404          12.0   0.544779         12         14  \n",
       "89      12.384          12.0   0.533427         12         14  \n",
       "90      12.360          12.0   0.512250         12         14  \n",
       "91      12.320          12.0   0.507543         12         14  \n",
       "92      12.316          12.0   0.529286         12         14  \n",
       "93      12.384          12.0   0.548219         12         14  \n",
       "94      12.304          12.0   0.509494         12         14  \n",
       "95      12.440          12.0   0.535164         12         14  \n",
       "96      12.416          12.0   0.568282         12         14  \n",
       "97      12.424          12.0   0.576389         12         14  \n",
       "98      12.408          12.0   0.574052         12         14  \n",
       "99      12.388          12.0   0.534281         12         14  \n",
       "\n",
       "[100 rows x 11 columns]"
      ]
     },
     "execution_count": 30,
     "metadata": {},
     "output_type": "execute_result"
    }
   ],
   "source": [
    "rt_ql_intermediate_scoring_df = rt_ql.scoring_summary.to_dataframe()\n",
    "rt_ql_intermediate_scoring_df"
   ]
  },
  {
   "cell_type": "code",
   "execution_count": 31,
   "metadata": {},
   "outputs": [
    {
     "data": {
      "text/plain": [
       "[<matplotlib.lines.Line2D at 0x1a249c42cc0>]"
      ]
     },
     "execution_count": 31,
     "metadata": {},
     "output_type": "execute_result"
    },
    {
     "data": {
      "image/png": "[encoded data removed]",
      "text/plain": [
       "<Figure size 432x288 with 1 Axes>"
      ]
     },
     "metadata": {
      "needs_background": "light"
     },
     "output_type": "display_data"
    }
   ],
   "source": [
    "plt.plot(rt_ql_intermediate_scoring_df.loc[:, 'iteration'], rt_ql_intermediate_scoring_df.loc[:, 'reward_mean'], '-o')"
   ]
  },
  {
   "cell_type": "markdown",
   "metadata": {},
   "source": [
    "In this case we see somewhere between the 3500th and 4000th iteration the solver finds a solution and starts building a policy around it.  This won't always be the case and learning may be more incremental"
   ]
  },
  {
   "cell_type": "markdown",
   "metadata": {},
   "source": [
    "And if we wanted to access the actual episodes that went into one of these datapoints, they're available in a dictionary of WalkStatistics objects here (keyed by iteration number):"
   ]
  },
  {
   "cell_type": "code",
   "execution_count": 32,
   "metadata": {},
   "outputs": [
    {
     "name": "stdout",
     "output_type": "stream",
     "text": [
      "WalkStatistics for the scoring at iter == 3750:\n",
      "\n"
     ]
    },
    {
     "data": {
      "text/html": [
       "<div>\n",
       "<style scoped>\n",
       "    .dataframe tbody tr th:only-of-type {\n",
       "        vertical-align: middle;\n",
       "    }\n",
       "\n",
       "    .dataframe tbody tr th {\n",
       "        vertical-align: top;\n",
       "    }\n",
       "\n",
       "    .dataframe thead th {\n",
       "        text-align: right;\n",
       "    }\n",
       "</style>\n",
       "<table border=\"1\" class=\"dataframe\">\n",
       "  <thead>\n",
       "    <tr style=\"text-align: right;\">\n",
       "      <th></th>\n",
       "      <th>walk_index</th>\n",
       "      <th>reward</th>\n",
       "      <th>steps</th>\n",
       "      <th>terminal</th>\n",
       "      <th>reward_mean</th>\n",
       "      <th>reward_median</th>\n",
       "      <th>reward_std</th>\n",
       "      <th>reward_min</th>\n",
       "      <th>reward_max</th>\n",
       "      <th>steps_mean</th>\n",
       "      <th>steps_median</th>\n",
       "      <th>steps_std</th>\n",
       "      <th>steps_min</th>\n",
       "      <th>steps_max</th>\n",
       "      <th>terminal_fraction</th>\n",
       "    </tr>\n",
       "  </thead>\n",
       "  <tbody>\n",
       "    <tr>\n",
       "      <th>0</th>\n",
       "      <td>0</td>\n",
       "      <td>-125.0</td>\n",
       "      <td>27</td>\n",
       "      <td>True</td>\n",
       "      <td>-125.000000</td>\n",
       "      <td>-125.0</td>\n",
       "      <td>0.000000</td>\n",
       "      <td>-125.0</td>\n",
       "      <td>-125.0</td>\n",
       "      <td>27.000000</td>\n",
       "      <td>27.0</td>\n",
       "      <td>0.000000</td>\n",
       "      <td>27</td>\n",
       "      <td>27</td>\n",
       "      <td>1.0</td>\n",
       "    </tr>\n",
       "    <tr>\n",
       "      <th>1</th>\n",
       "      <td>1</td>\n",
       "      <td>73.0</td>\n",
       "      <td>29</td>\n",
       "      <td>True</td>\n",
       "      <td>-26.000000</td>\n",
       "      <td>-26.0</td>\n",
       "      <td>99.000000</td>\n",
       "      <td>-125.0</td>\n",
       "      <td>73.0</td>\n",
       "      <td>28.000000</td>\n",
       "      <td>28.0</td>\n",
       "      <td>1.000000</td>\n",
       "      <td>27</td>\n",
       "      <td>29</td>\n",
       "      <td>1.0</td>\n",
       "    </tr>\n",
       "    <tr>\n",
       "      <th>2</th>\n",
       "      <td>2</td>\n",
       "      <td>-124.0</td>\n",
       "      <td>26</td>\n",
       "      <td>True</td>\n",
       "      <td>-58.666667</td>\n",
       "      <td>-124.0</td>\n",
       "      <td>93.103288</td>\n",
       "      <td>-125.0</td>\n",
       "      <td>73.0</td>\n",
       "      <td>27.333333</td>\n",
       "      <td>27.0</td>\n",
       "      <td>1.247219</td>\n",
       "      <td>26</td>\n",
       "      <td>29</td>\n",
       "      <td>1.0</td>\n",
       "    </tr>\n",
       "    <tr>\n",
       "      <th>3</th>\n",
       "      <td>3</td>\n",
       "      <td>-124.0</td>\n",
       "      <td>26</td>\n",
       "      <td>True</td>\n",
       "      <td>-75.000000</td>\n",
       "      <td>-124.0</td>\n",
       "      <td>85.448815</td>\n",
       "      <td>-125.0</td>\n",
       "      <td>73.0</td>\n",
       "      <td>27.000000</td>\n",
       "      <td>26.5</td>\n",
       "      <td>1.224745</td>\n",
       "      <td>26</td>\n",
       "      <td>29</td>\n",
       "      <td>1.0</td>\n",
       "    </tr>\n",
       "    <tr>\n",
       "      <th>4</th>\n",
       "      <td>4</td>\n",
       "      <td>-125.0</td>\n",
       "      <td>27</td>\n",
       "      <td>True</td>\n",
       "      <td>-85.000000</td>\n",
       "      <td>-124.0</td>\n",
       "      <td>79.001266</td>\n",
       "      <td>-125.0</td>\n",
       "      <td>73.0</td>\n",
       "      <td>27.000000</td>\n",
       "      <td>27.0</td>\n",
       "      <td>1.095445</td>\n",
       "      <td>26</td>\n",
       "      <td>29</td>\n",
       "      <td>1.0</td>\n",
       "    </tr>\n",
       "  </tbody>\n",
       "</table>\n",
       "</div>"
      ],
      "text/plain": [
       "   walk_index  reward  steps  terminal  reward_mean  reward_median  \\\n",
       "0           0  -125.0     27      True  -125.000000         -125.0   \n",
       "1           1    73.0     29      True   -26.000000          -26.0   \n",
       "2           2  -124.0     26      True   -58.666667         -124.0   \n",
       "3           3  -124.0     26      True   -75.000000         -124.0   \n",
       "4           4  -125.0     27      True   -85.000000         -124.0   \n",
       "\n",
       "   reward_std  reward_min  reward_max  steps_mean  steps_median  steps_std  \\\n",
       "0    0.000000      -125.0      -125.0   27.000000          27.0   0.000000   \n",
       "1   99.000000      -125.0        73.0   28.000000          28.0   1.000000   \n",
       "2   93.103288      -125.0        73.0   27.333333          27.0   1.247219   \n",
       "3   85.448815      -125.0        73.0   27.000000          26.5   1.224745   \n",
       "4   79.001266      -125.0        73.0   27.000000          27.0   1.095445   \n",
       "\n",
       "   steps_min  steps_max  terminal_fraction  \n",
       "0         27         27                1.0  \n",
       "1         27         29                1.0  \n",
       "2         26         29                1.0  \n",
       "3         26         29                1.0  \n",
       "4         26         29                1.0  "
      ]
     },
     "execution_count": 32,
     "metadata": {},
     "output_type": "execute_result"
    }
   ],
   "source": [
    "i = 3750\n",
    "print(f'WalkStatistics for the scoring at iter == {i}:\\n')\n",
    "rt_ql.scoring_walk_statistics[i].to_dataframe().head()"
   ]
  }
 ],
 "metadata": {
  "kernelspec": {
   "display_name": "Python [conda env:lrl] *",
   "language": "python",
   "name": "conda-env-lrl-py"
  },
  "language_info": {
   "codemirror_mode": {
    "name": "ipython",
    "version": 3
   },
   "file_extension": ".py",
   "mimetype": "text/x-python",
   "name": "python",
   "nbconvert_exporter": "python",
   "pygments_lexer": "ipython3",
   "version": "3.7.3"
  }
 },
 "nbformat": 4,
 "nbformat_minor": 2
}
